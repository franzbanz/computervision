{
 "cells": [
  {
   "cell_type": "markdown",
   "metadata": {},
   "source": [
    "# Scalable Vertex Recognition\n",
    "University of Stuttgart, Institute of Aircraft Systems, Andreas Waldvogel, 2024\n",
    "\n",
    "A Jupyter Notebook demonstrating how DOMAINES Visualization Verification finds so called scalable vertices in a screenshot of a block diagram. In the case of a Functions Layer of the Open Avionics Architecture Model, this comes down to blue boxes.\n",
    "\n",
    "Find template on target image block diagram.\n",
    "The used technology is open CV and template matching. Matplotlib is used for graphs.\n",
    "Plotly produces nice graphs, however is super computing intensive, especially if 1 Mio pixels need to be calculated. So activate individual plots by setting activate_plotly to True. \n",
    "\n",
    "Tested in VS Code using the Jupyter Notebook Plugin\n",
    "\n",
    "#### Procedure\n",
    "* Using template matching, a template is searched in a target image.\n",
    "* A threshold of 60% is used. \n",
    "* Boxes of the matched pixels are drawn.\n",
    "* Only boxes on the foreground are allowed (step probably not needed anymore)\n",
    "* Individual boxes are composed to super boxes representing the searched tasks.\n",
    "\n",
    "#### images are removed to save space in the repository"
   ]
  },
  {
   "cell_type": "markdown",
   "metadata": {},
   "source": [
    "#### Imports\n",
    "make sure to have installed at least opencv, numpy and matplotlib. plotly is optional, but beautiful."
   ]
  },
  {
   "cell_type": "code",
   "execution_count": 1,
   "metadata": {},
   "outputs": [],
   "source": [
    "import cv2\n",
    "import numpy as np\n",
    "from matplotlib import pyplot as plt\n",
    "import plotly.graph_objects as go"
   ]
  },
  {
   "cell_type": "markdown",
   "metadata": {},
   "source": [
    "## Input"
   ]
  },
  {
   "cell_type": "code",
   "execution_count": 2,
   "metadata": {},
   "outputs": [],
   "source": [
    "activate_plotly = False # turn expensive renderings on and off\n",
    "threshold = 0.5 # 0.45 to find the upper left recangle\n",
    "\n",
    "# Define the paths\n",
    "# target_image_path = '3boxes_labels.png'\n",
    "# target_image_path = '00_3boxes_labels_scaled.png' # default\n",
    "# target_image_path = 'door_system.png' # version 1 for paper\n",
    "target_image_path = 'multiplecrossings.png' # version 2 for paper with scaled vertex\n",
    "# target_image_path = 'system.png'\n",
    "# target_image_path = '3boxes_grey_input.png'\n",
    "# template_image_path = 'task_scaled3.png'\n",
    "# template_image_path = 'task_white.png'\n",
    "# template_image_path = 'task.png'\n",
    "template_image_path = 'task_180_200.png'\n",
    "# template_image_path = 'greytemplate.png'\n",
    "\n",
    "target_img = cv2.imread(target_image_path)\n",
    "template_img = cv2.imread(template_image_path)\n",
    "\n"
   ]
  },
  {
   "cell_type": "markdown",
   "metadata": {},
   "source": [
    "#### Visualization of Input"
   ]
  },
  {
   "cell_type": "code",
   "execution_count": 3,
   "metadata": {},
   "outputs": [],
   "source": [
    "# # Draw target image and template image\n",
    "# fig, ax = plt.subplots(1, 2, figsize=(15, 15))\n",
    "# ax[0].imshow(cv2.cvtColor(target_img, cv2.COLOR_BGR2RGB))\n",
    "# ax[0].set_title('Target Image')\n",
    "# ax[1].imshow(cv2.cvtColor(template_img, cv2.COLOR_BGR2RGB))\n",
    "# ax[1].set_title('Template Image')\n",
    "# plt.show()"
   ]
  },
  {
   "cell_type": "markdown",
   "metadata": {},
   "source": [
    "## Template Matching"
   ]
  },
  {
   "cell_type": "markdown",
   "metadata": {},
   "source": [
    "Use opencv template matching: https://docs.opencv.org/4.10.0/df/dfb/group__imgproc__object.html"
   ]
  },
  {
   "cell_type": "code",
   "execution_count": 4,
   "metadata": {},
   "outputs": [],
   "source": [
    "# Apply template matching\n",
    "res = cv2.matchTemplate(target_img, template_img, cv2.TM_CCOEFF_NORMED)"
   ]
  },
  {
   "cell_type": "markdown",
   "metadata": {},
   "source": [
    "#### Visualization of Template Matching"
   ]
  },
  {
   "cell_type": "code",
   "execution_count": 5,
   "metadata": {},
   "outputs": [],
   "source": [
    "# # Draw the result of the template matching, normalized -> comparable\n",
    "# fig, ax = plt.subplots(1, 1, figsize=(10, 10))\n",
    "# ax.imshow(res, cmap='inferno', vmin=0, vmax=1)\n",
    "# ax.set_title('Heatmap Template Matching (Normalized)')\n",
    "# plt.show()"
   ]
  },
  {
   "cell_type": "markdown",
   "metadata": {},
   "source": [
    "#### Visualization of Template Matching over Target Image"
   ]
  },
  {
   "cell_type": "markdown",
   "metadata": {},
   "source": [
    "res seems to be smaller than template_img because there are no matches outside the small area shown."
   ]
  },
  {
   "cell_type": "code",
   "execution_count": 6,
   "metadata": {},
   "outputs": [],
   "source": [
    "# # Overlay the heatmap on the original image\n",
    "# fig, ax = plt.subplots(1, 1, figsize=(10, 10))\n",
    "# ax.imshow(cv2.cvtColor(target_img, cv2.COLOR_BGR2RGB))\n",
    "# ax.imshow(res, cmap='inferno', alpha=0.8, interpolation='nearest', vmin=0, vmax=1)  # `alpha` controls the transparency.\n",
    "# plt.title('Heatmap Template Matching (Normalized), Overlayed on Target Image')\n",
    "# plt.show()"
   ]
  },
  {
   "cell_type": "markdown",
   "metadata": {},
   "source": [
    "#### Visualization of Template Matching 3D with plotly"
   ]
  },
  {
   "cell_type": "code",
   "execution_count": 7,
   "metadata": {},
   "outputs": [],
   "source": [
    "# !! Danger !! plotly is expensive\n",
    "if activate_plotly:\n",
    "  fig = go.Figure(data=[go.Surface(z=res)])\n",
    "  fig.update_layout(title='Heatmap Template Matching (Normalized)', \n",
    "                    scene=dict(\n",
    "                      yaxis=dict(autorange='reversed') \n",
    "                    ), # This reverses the y-axis in a 3D plot\n",
    "                    height=1500)\n",
    "  fig.show()"
   ]
  },
  {
   "cell_type": "markdown",
   "metadata": {},
   "source": [
    "#### Visualization of Template Matching 3D with plotly with screenshot for paper"
   ]
  },
  {
   "cell_type": "code",
   "execution_count": 8,
   "metadata": {},
   "outputs": [],
   "source": [
    "template_matching_result_for_plot = res.copy()\n",
    "\n",
    "if activate_plotly:\n",
    "  fig = go.Figure()\n",
    "  \n",
    "  # Layer 1: 3D Plot of Heatmap\n",
    "  fig.add_trace(go.Surface(\n",
    "    z=template_matching_result_for_plot,\n",
    "    showscale=False,\n",
    "    ))\n",
    "\n",
    "  # Layer 2: 2D Plot of Target Image at 0.1 (for aesthetics)\n",
    "  # crop target image to the size of the heatmap\n",
    "  target_img_cropped = target_img[:template_matching_result_for_plot.shape[0], :template_matching_result_for_plot.shape[1], :]\n",
    "  # convert to grayscale (color seems to be tricky)\n",
    "  target_img_cropped_gray = cv2.cvtColor(target_img_cropped, cv2.COLOR_BGR2GRAY)\n",
    "  z_image = np.ones_like(target_img_cropped_gray)*0.1\n",
    "  \n",
    "  fig.add_trace(go.Surface(\n",
    "    z=z_image, \n",
    "    surfacecolor=target_img_cropped_gray, \n",
    "    colorscale='gray', \n",
    "    showscale=False))\n",
    "\n",
    "  fig.update_layout(title='Heatmap Template Matching (Normalized)', \n",
    "                    scene=dict(\n",
    "                      yaxis=dict(autorange='reversed') \n",
    "                    ), # This reverses the y-axis in a 3D plot    --- use this, super good!\n",
    "                    scene_aspectratio=dict(x=2, y=1, z=0.5),\n",
    "                    height=1500)\n",
    "  fig.show()"
   ]
  },
  {
   "cell_type": "markdown",
   "metadata": {},
   "source": [
    "## Thresholding"
   ]
  },
  {
   "cell_type": "markdown",
   "metadata": {},
   "source": [
    "### Histogram for Thresholding"
   ]
  },
  {
   "cell_type": "code",
   "execution_count": 9,
   "metadata": {},
   "outputs": [],
   "source": [
    "\n",
    "# # Draw histogram of the results\n",
    "# threshold = 0.6\n",
    "# fig, ax = plt.subplots(1, 1, figsize=(15, 3))\n",
    "# ax.hist(res.ravel(), bins=256, range=[0.2, 1])\n",
    "# # visualize the threshold\n",
    "# ax.axvline(x=threshold, color='r', linestyle='--')\n",
    "# ax.set_title('Histogram of Matching Result')\n",
    "# plt.show()"
   ]
  },
  {
   "cell_type": "markdown",
   "metadata": {},
   "source": [
    "### Threshold Template Matching"
   ]
  },
  {
   "cell_type": "code",
   "execution_count": 10,
   "metadata": {},
   "outputs": [
    {
     "name": "stdout",
     "output_type": "stream",
     "text": [
      "Found 114 matches with a threshold of 0.5\n"
     ]
    }
   ],
   "source": [
    "loc = np.where(res >= threshold)\n",
    "print(f\"Found {len(loc[0])} matches with a threshold of {threshold}\")"
   ]
  },
  {
   "cell_type": "markdown",
   "metadata": {},
   "source": [
    "## Visualization after Thresholding"
   ]
  },
  {
   "cell_type": "markdown",
   "metadata": {},
   "source": [
    "### Analysis After Thresholding"
   ]
  },
  {
   "cell_type": "code",
   "execution_count": 11,
   "metadata": {},
   "outputs": [],
   "source": [
    "# Set all values below the threshold to 0\n",
    "thresholded_res = np.copy(res)\n",
    "thresholded_res[thresholded_res < threshold] = 0"
   ]
  },
  {
   "cell_type": "markdown",
   "metadata": {},
   "source": [
    "### 2D Visualization"
   ]
  },
  {
   "cell_type": "code",
   "execution_count": 12,
   "metadata": {},
   "outputs": [],
   "source": [
    "# # Draw the thresholded results\n",
    "# fig, ax = plt.subplots(1, 1, figsize=(15, 10))\n",
    "# cax = ax.imshow(loc, cmap='inferno', vmin=0, vmax=1)\n",
    "# ax.imshow(thresholded_res, cmap='inferno', vmin=0, vmax=1)\n",
    "# ax.set_title(f'Heatmap Template Matching (Normalized, Masked, Thresholded at {threshold})')\n",
    "# # fig.colorbar(cax, ax=ax) # optional colorbar\n",
    "# plt.show()"
   ]
  },
  {
   "cell_type": "markdown",
   "metadata": {},
   "source": [
    "### 2D on Target Image"
   ]
  },
  {
   "cell_type": "code",
   "execution_count": 13,
   "metadata": {},
   "outputs": [],
   "source": [
    "# # Overlay the heatmap on the original image\n",
    "# plt.figure(figsize=(15,10))\n",
    "# plt.imshow(cv2.cvtColor(target_img, cv2.COLOR_BGR2RGB))\n",
    "# plt.imshow(thresholded_res, cmap='inferno', alpha=0.8, interpolation='nearest', vmin=0, vmax=1)  # `alpha` controls the transparency.\n",
    "# plt.title(f'Heatmap Template Matching (Normalized, Thresholded at {threshold}), Overlayed on Target Image')\n",
    "# plt.show()\n"
   ]
  },
  {
   "cell_type": "markdown",
   "metadata": {},
   "source": [
    "#### 2D big Xes on Target Image\n",
    "Xes are easy to see, but their color does not provide a colorscale\n",
    "\n",
    "TODO: add this visualization to actual code base"
   ]
  },
  {
   "cell_type": "code",
   "execution_count": 14,
   "metadata": {},
   "outputs": [],
   "source": [
    "# # draw the loc as points\n",
    "# fig, ax = plt.subplots(1, 1, figsize=(15, 10))\n",
    "# ax.imshow(cv2.cvtColor(target_img, cv2.COLOR_BGR2RGB))\n",
    "# ax.scatter(loc[1], loc[0], c='r', s=100, marker='x')\n",
    "# plt.title(f'Detected Locations after Template Matching (Thresholded at {threshold}), Overlayed on Target Image')\n",
    "# plt.show()"
   ]
  },
  {
   "cell_type": "markdown",
   "metadata": {},
   "source": [
    "### 3D with Plotly"
   ]
  },
  {
   "cell_type": "code",
   "execution_count": 15,
   "metadata": {},
   "outputs": [],
   "source": [
    "if activate_plotly: # not as expensive anymore, way less pixels\n",
    "  fig = go.Figure(\n",
    "    data=[go.Surface(\n",
    "      z=thresholded_res)]\n",
    "    )\n",
    "  fig.update_layout(title=f'Heatmap Template Matching (Normalized, Thresholded at {threshold})', \n",
    "                    scene=dict(\n",
    "                      zaxis=dict(range=[threshold, 1]),\n",
    "                      yaxis=dict(autorange='reversed'), # This reverses the y-axis in a 3D plot    --- use this, super good!\n",
    "                    ), \n",
    "                    height=1200)\n",
    "  fig.show()"
   ]
  },
  {
   "cell_type": "markdown",
   "metadata": {},
   "source": [
    "### 2D with Plotly"
   ]
  },
  {
   "cell_type": "code",
   "execution_count": 16,
   "metadata": {},
   "outputs": [],
   "source": [
    "# again with plotly, but 2D\n",
    "if activate_plotly:\n",
    "  fig = go.Figure(\n",
    "    data=go.Heatmap(\n",
    "      z=thresholded_res,\n",
    "      ),\n",
    "    )\n",
    "  fig.update_layout(title='Heatmap Template Matching (Normalized, Thresholded)', \n",
    "                    scene=dict(\n",
    "                      yaxis=dict(autorange='reversed') \n",
    "                    ), # This reverses the y-axis in a 3D plot    --- use this, super good!\n",
    "                    height=1200)\n",
    "  fig.show()\n"
   ]
  },
  {
   "cell_type": "markdown",
   "metadata": {},
   "source": [
    "## From Pixels to Boxes"
   ]
  },
  {
   "cell_type": "markdown",
   "metadata": {},
   "source": [
    "### Bounding Boxes before Foreground check\n",
    "Draw bounding boxes for every single matched template. (A 180x200 box for every single pixel)"
   ]
  },
  {
   "cell_type": "code",
   "execution_count": 17,
   "metadata": {},
   "outputs": [],
   "source": [
    "# # Draw the bounding boxes\n",
    "# target_img_with_boxes = target_img.copy()\n",
    "# for pt in zip(*loc[::-1]):\n",
    "#     bottom_right = (pt[0] + template_img.shape[1], pt[1] + template_img.shape[0])\n",
    "#     cv2.rectangle(target_img_with_boxes, pt, bottom_right, (0, 255, 0), 2)\n",
    "\n",
    "# fig, ax = plt.subplots(1, 1, figsize=(15, 10))\n",
    "# ax.imshow(cv2.cvtColor(target_img_with_boxes, cv2.COLOR_BGR2RGB))\n",
    "# plt.title('Target Image with Bounding Boxes')  \n",
    "# plt.show()"
   ]
  },
  {
   "cell_type": "markdown",
   "metadata": {},
   "source": [
    "### Threshold to get Foreground\n",
    "Original target image is thresholded to get foreground. This is used to restrict matches to the foreground. TODO: is this still a thing?"
   ]
  },
  {
   "cell_type": "code",
   "execution_count": 18,
   "metadata": {},
   "outputs": [],
   "source": [
    "# Convert to grayscale\n",
    "target_gray = cv2.cvtColor(target_img, cv2.COLOR_BGR2GRAY)\n",
    "\n",
    "# Threshold the image\n",
    "_, target_thresh = cv2.threshold(target_gray, 245, 255, cv2.THRESH_BINARY_INV)"
   ]
  },
  {
   "cell_type": "markdown",
   "metadata": {},
   "source": [
    "### Visualize Foreground"
   ]
  },
  {
   "cell_type": "code",
   "execution_count": 19,
   "metadata": {},
   "outputs": [],
   "source": [
    "# fig, ax = plt.subplots(1, 2, figsize=(15, 15))\n",
    "# ax[0].imshow(target_gray, cmap='gray')\n",
    "# ax[0].set_title('Target Image Grayscale')\n",
    "# ax[1].imshow(target_thresh, cmap='gray')\n",
    "# ax[1].set_title('Target Image Thresholded')\n",
    "# plt.show()"
   ]
  },
  {
   "cell_type": "markdown",
   "metadata": {},
   "source": [
    "### Filter Foreground\n",
    "Filters the bounding boxes of the vertices. Only locations in the foreground are kept. This is probably obsolete. "
   ]
  },
  {
   "cell_type": "code",
   "execution_count": 20,
   "metadata": {},
   "outputs": [],
   "source": [
    "loc_foreground = []\n",
    "for pt in zip(*loc[::-1]):\n",
    "    if np.all(target_thresh[pt[1]:pt[1] + template_img.shape[0], pt[0]:pt[0] + template_img.shape[1]] == 255):\n",
    "        loc_foreground.append(pt)"
   ]
  },
  {
   "cell_type": "markdown",
   "metadata": {},
   "source": [
    "### Visualize Bounding Boxes after Foreground Filtering"
   ]
  },
  {
   "cell_type": "code",
   "execution_count": 21,
   "metadata": {},
   "outputs": [],
   "source": [
    "# target_img_bounding_boxes = target_img.copy()\n",
    "# for pt in zip(*loc[::-1]):\n",
    "#     cv2.rectangle(target_img_bounding_boxes, pt, (pt[0] + template_img.shape[1], pt[1] + template_img.shape[0]), (0, 255, 0), 2)\n",
    "\n",
    "# fig, ax = plt.subplots(1, 1, figsize=(15, 10))\n",
    "# ax.imshow(cv2.cvtColor(target_img_bounding_boxes, cv2.COLOR_BGR2RGB))\n",
    "# ax.set_title('Bounding Boxes')\n",
    "# plt.show()"
   ]
  },
  {
   "cell_type": "markdown",
   "metadata": {},
   "source": [
    "### Analyse Foreground Check\n",
    "Foregound check has currently negligible effect and could be deactivated."
   ]
  },
  {
   "cell_type": "code",
   "execution_count": 22,
   "metadata": {},
   "outputs": [
    {
     "name": "stdout",
     "output_type": "stream",
     "text": [
      "Found 114 matches with a threshold of 0.5\n",
      "Found 97 matches with a threshold of 0.5 and foreground filter\n"
     ]
    }
   ],
   "source": [
    "# Compare loc and loc_foreground\n",
    "print(f\"Found {len(loc[0])} matches with a threshold of {threshold}\")\n",
    "print(f\"Found {len(loc_foreground)} matches with a threshold of {threshold} and foreground filter\")"
   ]
  },
  {
   "cell_type": "markdown",
   "metadata": {},
   "source": [
    "#### Visualize Remaining Matches after Foreground Filter"
   ]
  },
  {
   "cell_type": "code",
   "execution_count": 23,
   "metadata": {},
   "outputs": [],
   "source": [
    "# # Set all values below the threshold to 0\n",
    "# thresholded_res = np.copy(res)\n",
    "# thresholded_res[thresholded_res < threshold] = 0\n",
    "\n",
    "# # Draw the thresholded results\n",
    "# fig, ax = plt.subplots(1, 1, figsize=(15, 10))\n",
    "# cax = ax.imshow(loc, cmap='inferno', vmin=0, vmax=1)\n",
    "# ax.imshow(thresholded_res, cmap='inferno', vmin=0, vmax=1)\n",
    "# ax.set_title(f'Heatmap Template Matching (Normalized, Masked, Thresholded at {threshold})')\n",
    "# # fig.colorbar(cax, ax=ax) # optional colorbar\n",
    "# plt.show()"
   ]
  },
  {
   "cell_type": "markdown",
   "metadata": {},
   "source": [
    "#### ... on Target Image"
   ]
  },
  {
   "cell_type": "code",
   "execution_count": 24,
   "metadata": {},
   "outputs": [],
   "source": [
    "# # Overlay the heatmap on the original image\n",
    "# plt.figure(figsize=(15,10))\n",
    "# plt.imshow(cv2.cvtColor(target_img, cv2.COLOR_BGR2RGB))\n",
    "# plt.imshow(thresholded_res, cmap='inferno', alpha=0.8, interpolation='nearest', vmin=0, vmax=1)  # `alpha` controls the transparency.\n",
    "# plt.title(f'Heatmap Template Matching (Normalized, Masked, Thresholded at {threshold}), Overlayed on Target Image')\n",
    "# plt.show()"
   ]
  },
  {
   "cell_type": "markdown",
   "metadata": {},
   "source": [
    "Idea. To distinguish between differently coloured boxes do comparison above the threshold which coloured box gets the most points. Old idea. It is easier if it finds every box with confidence. "
   ]
  },
  {
   "cell_type": "markdown",
   "metadata": {},
   "source": [
    "### Fill bounding boxes\n",
    "Fills the bounding boxes of the vertices"
   ]
  },
  {
   "cell_type": "code",
   "execution_count": 25,
   "metadata": {},
   "outputs": [],
   "source": [
    "matched_templates_bbox_filled = np.zeros(target_img.shape[:2], dtype=np.uint8)\n",
    "for pt in loc_foreground:\n",
    "    cv2.rectangle(matched_templates_bbox_filled, pt, (pt[0] + template_img.shape[1], pt[1] + template_img.shape[0]), 255, -1)"
   ]
  },
  {
   "cell_type": "markdown",
   "metadata": {},
   "source": [
    "#### Plot filled bounding boxes"
   ]
  },
  {
   "cell_type": "code",
   "execution_count": 26,
   "metadata": {},
   "outputs": [],
   "source": [
    "# # Draw the filled bounding boxes\n",
    "# fig, ax = plt.subplots(1, 1, figsize=(10, 10))\n",
    "# ax.imshow(matched_templates_bbox_filled, cmap='gray')\n",
    "# ax.set_title('Filled Bounding Boxes')\n",
    "# plt.show()"
   ]
  },
  {
   "cell_type": "markdown",
   "metadata": {},
   "source": [
    "### Find Contours in the super boxes\n",
    "The overlapping bounding boxes are now puzzled together to big boxes"
   ]
  },
  {
   "cell_type": "code",
   "execution_count": 27,
   "metadata": {},
   "outputs": [
    {
     "name": "stdout",
     "output_type": "stream",
     "text": [
      "bounding_boxes: [(177, 962, 218, 242), (803, 734, 218, 241), (69, 650, 217, 241), (1320, 463, 218, 242), (598, 301, 218, 241), (695, 12, 217, 241)]\n"
     ]
    }
   ],
   "source": [
    "target_img_boundings_grouped = target_img.copy()\n",
    "\n",
    "# Find contours\n",
    "contours, _ = cv2.findContours(matched_templates_bbox_filled, cv2.RETR_EXTERNAL, cv2.CHAIN_APPROX_SIMPLE)\n",
    "\n",
    "# Store the bounding boxes of the vertices\n",
    "bounding_boxes = []\n",
    "\n",
    "# Draw bounding boxes based on contours and save their coordinates\n",
    "for cnt in contours:\n",
    "    x, y, w, h = cv2.boundingRect(cnt)\n",
    "    cv2.rectangle(target_img_boundings_grouped, (x, y), (x+w, y+h), (0, 255, 0), 4)\n",
    "    bounding_boxes.append((x, y, w, h))\n",
    "print(f\"bounding_boxes: {bounding_boxes}\")"
   ]
  },
  {
   "cell_type": "markdown",
   "metadata": {},
   "source": [
    "#### Visualize the super boxes"
   ]
  },
  {
   "cell_type": "code",
   "execution_count": 28,
   "metadata": {},
   "outputs": [
    {
     "data": {
      "image/png": "[encoded data removed]",
      "text/plain": [
       "<Figure size 1500x1000 with 1 Axes>"
      ]
     },
     "metadata": {},
     "output_type": "display_data"
    }
   ],
   "source": [
    "# Draw the result\n",
    "fig, ax = plt.subplots(1, 1, figsize=(15, 10))\n",
    "ax.imshow(cv2.cvtColor(target_img_boundings_grouped, cv2.COLOR_BGR2RGB))\n",
    "ax.set_title(\"Bounding Boxes Detected Templates\")\n",
    "plt.show()\n"
   ]
  }
 ],
 "metadata": {
  "kernelspec": {
   "display_name": "Python 3",
   "language": "python",
   "name": "python3"
  },
  "language_info": {
   "codemirror_mode": {
    "name": "ipython",
    "version": 3
   },
   "file_extension": ".py",
   "mimetype": "text/x-python",
   "name": "python",
   "nbconvert_exporter": "python",
   "pygments_lexer": "ipython3",
   "version": "3.12.6"
  }
 },
 "nbformat": 4,
 "nbformat_minor": 2
}
