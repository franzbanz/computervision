{
 "cells": [
  {
   "cell_type": "markdown",
   "metadata": {},
   "source": [
    "# Text Detection\n",
    "\n",
    "Detect Text Labels in OAAM Functions Layer and generally in block-diagrams. Outputs bounding boxes and texts. "
   ]
  },
  {
   "cell_type": "code",
   "execution_count": 1,
   "metadata": {},
   "outputs": [],
   "source": [
    "import cv2\n",
    "import numpy as np\n",
    "from matplotlib import pyplot as plt\n",
    "import pytesseract\n",
    "from pytesseract import Output\n",
    "import pandas as pd\n",
    "import pprint"
   ]
  },
  {
   "cell_type": "markdown",
   "metadata": {},
   "source": [
    "## Input"
   ]
  },
  {
   "cell_type": "code",
   "execution_count": 2,
   "metadata": {},
   "outputs": [],
   "source": [
    "# Define the paths\n",
    "# target_image_path = 'many_tasks.png'\n",
    "target_image_path = 'images/multiplecrossings.png' # breaking case, OCR does not find Output 01 and Input 05\n",
    "target_image_path = 'images/testcase3.png'\n",
    "# target_image_path = '3boxes_grey_input.png'\n",
    "# target_image_path = '00_3boxes_labels_scaled_unknown.png'\n",
    "\n",
    "target_img = cv2.imread(target_image_path)"
   ]
  },
  {
   "cell_type": "markdown",
   "metadata": {},
   "source": [
    "#### Visualization of Input"
   ]
  },
  {
   "cell_type": "code",
   "execution_count": 3,
   "metadata": {},
   "outputs": [],
   "source": [
    "# # Draw target image image\n",
    "# fig, ax = plt.subplots(1, 1, figsize=(10, 10))\n",
    "# ax.imshow(cv2.cvtColor(target_img, cv2.COLOR_BGR2RGB))\n",
    "# ax.set_title('Target Image')\n",
    "# plt.show()"
   ]
  },
  {
   "cell_type": "markdown",
   "metadata": {},
   "source": [
    "## Grayscale\n",
    "Currently, only grayscale is used, not thresholded"
   ]
  },
  {
   "cell_type": "code",
   "execution_count": 4,
   "metadata": {},
   "outputs": [],
   "source": [
    "# Convert to grayscale\n",
    "target_gray = cv2.cvtColor(target_img, cv2.COLOR_BGR2GRAY)\n",
    "\n",
    "# Threshold the template image\n",
    "_, target_thresh = cv2.threshold(target_gray, 245, 255, cv2.THRESH_BINARY_INV)"
   ]
  },
  {
   "cell_type": "markdown",
   "metadata": {},
   "source": [
    "#### Visualize Grayscale"
   ]
  },
  {
   "cell_type": "code",
   "execution_count": 5,
   "metadata": {},
   "outputs": [],
   "source": [
    "# fig, ax = plt.subplots(1, 2, figsize=(15, 15))\n",
    "# ax[0].imshow(target_gray, cmap='gray')\n",
    "# ax[0].set_title('Target Image Grayscale')\n",
    "# ax[1].imshow(target_thresh, cmap='gray')\n",
    "# ax[1].set_title('Target Image Thresholded (not used)')\n",
    "# plt.show()"
   ]
  },
  {
   "cell_type": "markdown",
   "metadata": {},
   "source": [
    "## Tesseract OCR\n",
    "#### General Configuration\n",
    "Good overview on page segmentation modes [Py image search](https://pyimagesearch.com/2021/11/15/tesseract-page-segmentation-modes-psms-explained-how-to-improve-your-ocr-accuracy/)"
   ]
  },
  {
   "cell_type": "code",
   "execution_count": 6,
   "metadata": {},
   "outputs": [],
   "source": [
    "# Configuration strings for pytesseract\n",
    "config_psm = '--psm 11'\n",
    "config_oem = '--oem 3'  # Default is 3 for both LSTM and legacy engine\n",
    "# config_chars = '-c tessedit_char_whitelist=ABCDEFGHIJKLMNOPQRSTUVWXYZabcdefghijklmnopqrstuvwxyz0123456789!@#$%^&*()_+=-[]{}|;:<>/? '\n",
    "# config_chars = '-c tessedit_char_blacklist=T‘O'\n",
    "# print(config_chars)\n",
    "\n",
    "# Combine the configurations\n",
    "custom_config = f'{config_psm} {config_oem}'\n",
    "# custom_config = f'{config_psm} {config_oem} {config_chars}'\n",
    "\n",
    "# 6 works, but is made for single uniform block of text\n",
    "# 11 works 99%, made for sparse text"
   ]
  },
  {
   "cell_type": "markdown",
   "metadata": {},
   "source": [
    "#### Image to Text (Debug only)\n",
    "Actual output happens in Image to Data"
   ]
  },
  {
   "cell_type": "code",
   "execution_count": 7,
   "metadata": {},
   "outputs": [
    {
     "name": "stdout",
     "output_type": "stream",
     "text": [
      "=> | fe | Signal | Signal | => | Signal | => | Signal | Device | bd | Device | Device | Device aDeviceType | Device | Device\n",
      "\n"
     ]
    }
   ],
   "source": [
    "text = pytesseract.image_to_string(target_gray, config=custom_config)# Replace newlines with spaces to make it a single line\n",
    "formatted_text = text.replace(\"\\n\\n\", \" | \")\n",
    "print(formatted_text)"
   ]
  },
  {
   "cell_type": "markdown",
   "metadata": {},
   "source": [
    "## Image to Data\n",
    "This is really used"
   ]
  },
  {
   "cell_type": "code",
   "execution_count": 8,
   "metadata": {},
   "outputs": [
    {
     "name": "stdout",
     "output_type": "stream",
     "text": [
      "    level  page_num  block_num  par_num  line_num  word_num  left   top  width  height  conf         text\n",
      "0       1         1          0        0         0         0     0     0   2361    1171    -1             \n",
      "1       2         1          1        0         0         0   689   250     40      19    -1             \n",
      "2       3         1          1        1         0         0   689   250     40      19    -1             \n",
      "3       4         1          1        1         1         0   689   250     40      19    -1             \n",
      "4       5         1          1        1         1         1   689   250     40      19    74           =>\n",
      "5       2         1          2        0         0         0  1471    57    266     221    -1             \n",
      "6       3         1          2        1         0         0  1471    57    266     221    -1             \n",
      "7       4         1          2        1         1         0  1471    57    266     221    -1             \n",
      "8       5         1          2        1         1         1  1471    57    266     221    25           fe\n",
      "9       2         1          3        0         0         0   686   275     49      17    -1             \n",
      "10      3         1          3        1         0         0   686   275     49      17    -1             \n",
      "11      4         1          3        1         1         0   686   275     49      17    -1             \n",
      "12      5         1          3        1         1         1   686   275     49      17    96       Signal\n",
      "13      2         1          4        0         0         0  1315   285     49      17    -1             \n",
      "14      3         1          4        1         0         0  1315   285     49      17    -1             \n",
      "15      4         1          4        1         1         0  1315   285     49      17    -1             \n",
      "16      5         1          4        1         1         1  1315   285     49      17    96       Signal\n",
      "17      2         1          5        0         0         0   689   300     40      19    -1             \n",
      "18      3         1          5        1         0         0   689   300     40      19    -1             \n",
      "19      4         1          5        1         1         0   689   300     40      19    -1             \n",
      "20      5         1          5        1         1         1   689   300     40      19    74           =>\n",
      "21      2         1          6        0         0         0   686   325     49      17    -1             \n",
      "22      3         1          6        1         0         0   686   325     49      17    -1             \n",
      "23      4         1          6        1         1         0   686   325     49      17    -1             \n",
      "24      5         1          6        1         1         1   686   325     49      17    96       Signal\n",
      "25      2         1          7        0         0         0   699   470     40      19    -1             \n",
      "26      3         1          7        1         0         0   699   470     40      19    -1             \n",
      "27      4         1          7        1         1         0   699   470     40      19    -1             \n",
      "28      5         1          7        1         1         1   699   470     40      19    80           =>\n",
      "29      2         1          8        0         0         0   696   494     49      17    -1             \n",
      "30      3         1          8        1         0         0   696   494     49      17    -1             \n",
      "31      4         1          8        1         1         0   696   494     49      17    -1             \n",
      "32      5         1          8        1         1         1   696   494     49      17    96       Signal\n",
      "33      2         1          9        0         0         0  1504   605     54      13    -1             \n",
      "34      3         1          9        1         0         0  1504   605     54      13    -1             \n",
      "35      4         1          9        1         1         0  1504   605     54      13    -1             \n",
      "36      5         1          9        1         1         1  1504   605     54      13    96       Device\n",
      "37      2         1         10        0         0         0  1181   652     86      34    -1             \n",
      "38      3         1         10        1         0         0  1181   652     86      34    -1             \n",
      "39      4         1         10        1         1         0  1181   652     86      34    -1             \n",
      "40      5         1         10        1         1         1  1181   652     86      34    25           bd\n",
      "41      2         1         11        0         0         0  2224   675     54      13    -1             \n",
      "42      3         1         11        1         0         0  2224   675     54      13    -1             \n",
      "43      4         1         11        1         1         0  2224   675     54      13    -1             \n",
      "44      5         1         11        1         1         1  2224   675     54      13    96       Device\n",
      "45      2         1         12        0         0         0  1824   704     54      13    -1             \n",
      "46      3         1         12        1         0         0  1824   704     54      13    -1             \n",
      "47      4         1         12        1         1         0  1824   704     54      13    -1             \n",
      "48      5         1         12        1         1         1  1824   704     54      13    96       Device\n",
      "49      2         1         13        0         0         0   784  1075    163      17    -1             \n",
      "50      3         1         13        1         0         0   784  1075    163      17    -1             \n",
      "51      4         1         13        1         1         0   784  1075    163      17    -1             \n",
      "52      5         1         13        1         1         1   784  1075     54      13    93       Device\n",
      "53      5         1         13        1         1         2   844  1075    103      17    91  aDeviceType\n",
      "54      2         1         14        0         0         0   304  1107     54      13    -1             \n",
      "55      3         1         14        1         0         0   304  1107     54      13    -1             \n",
      "56      4         1         14        1         1         0   304  1107     54      13    -1             \n",
      "57      5         1         14        1         1         1   304  1107     54      13    96       Device\n",
      "58      2         1         15        0         0         0  1314  1103     54      13    -1             \n",
      "59      3         1         15        1         0         0  1314  1103     54      13    -1             \n",
      "60      4         1         15        1         1         0  1314  1103     54      13    -1             \n",
      "61      5         1         15        1         1         1  1314  1103     54      13    96       Device\n"
     ]
    }
   ],
   "source": [
    "# Use pytesseract to get the image filtered_filtered_filtered_filtered_data\n",
    "data = pytesseract.image_to_data(target_gray, output_type=Output.DICT, config=custom_config)\n",
    "\n",
    "# draw the data as a nice panda dataframe\n",
    "pd.set_option('display.width', 200)  # None should be not limit, but for some reason defaults to 80. So manually set high value. \n",
    "pd.set_option('display.max_rows', None)  # Don't truncate rows, Jupyter notebook will handle this anyways\n",
    "df = pd.DataFrame(data)\n",
    "print(df)\n"
   ]
  },
  {
   "cell_type": "markdown",
   "metadata": {},
   "source": [
    "#### Visualize OCR Result"
   ]
  },
  {
   "cell_type": "code",
   "execution_count": 9,
   "metadata": {},
   "outputs": [],
   "source": [
    "# # Draw the bounding boxes\n",
    "# plot_img = target_img.copy()\n",
    "# n_boxes = len(data['text'])\n",
    "# for i in range(n_boxes):\n",
    "#     if int(data['conf'][i]) > 0: # only text has a confidence value, so basically filters for text\n",
    "#         (x, y, w, h) = (data['left'][i], data['top'][i], data['width'][i], data['height'][i])\n",
    "#         plot_img = cv2.rectangle(plot_img, (x, y), (x + w, y + h), (0, 255, 0), 2)\n",
    "#         # put text\n",
    "#         plot_img = cv2.putText(plot_img, data['text'][i], (x, y-10), cv2.FONT_HERSHEY_SIMPLEX, 0.5, (0, 255, 0), 2)\n",
    "\n",
    "# # Draw target image image\n",
    "# fig, ax = plt.subplots(1, 1, figsize=(20, 20))\n",
    "# ax.imshow(cv2.cvtColor(plot_img, cv2.COLOR_BGR2RGB))\n",
    "# ax.set_title('Target Image with detected text')\n",
    "# plt.show()\n",
    "\n",
    "# # doc for pandas options\n",
    "# # pd.describe_option('display')\n"
   ]
  },
  {
   "cell_type": "markdown",
   "metadata": {},
   "source": [
    "#### Histogram of confidence"
   ]
  },
  {
   "cell_type": "code",
   "execution_count": 10,
   "metadata": {},
   "outputs": [],
   "source": [
    "# # plot the confidences in a histogram\n",
    "# plt.hist(df['conf'], bins=100, range=(0, 100))\n",
    "# plt.title('Confidence Histogram')\n",
    "# plt.show()"
   ]
  },
  {
   "cell_type": "markdown",
   "metadata": {},
   "source": [
    "## Processing\n",
    "From raw word boxes to someething useful"
   ]
  },
  {
   "cell_type": "markdown",
   "metadata": {},
   "source": [
    "#### Merge single Words into Text Labels\n",
    "Group neighboring words together to labels. Keep confidence for further processing. \n",
    "\n",
    "* expected format: \n",
    "* [1157, 295, 146, 13, 'Task Actor Locked ', 96]\n",
    "* left, top, widht, height, text, confidence"
   ]
  },
  {
   "cell_type": "code",
   "execution_count": 11,
   "metadata": {},
   "outputs": [
    {
     "name": "stdout",
     "output_type": "stream",
     "text": [
      "[[689, 250, 40, 19, '=> ', 74], [1471, 57, 266, 221, 'fe ', 25], [686, 275, 49, 17, 'Signal ', 96], [1315, 285, 49, 17, 'Signal ', 96], [689, 300, 40, 19, '=> ', 74], [686, 325, 49, 17, 'Signal ', 96], [699, 470, 40, 19, '=> ', 80], [696, 494, 49, 17, 'Signal ', 96], [1504, 605, 54, 13, 'Device ', 96], [1181, 652, 86, 34, 'bd ', 25], [2224, 675, 54, 13, 'Device ', 96], [1824, 704, 54, 13, 'Device ', 96], [784, 1075, 163, 17, 'Device aDeviceType ', 91], [304, 1107, 54, 13, 'Device ', 96], [1314, 1103, 54, 13, 'Device ', 96]]\n"
     ]
    }
   ],
   "source": [
    "# merge single words to blocks which represent a text label\n",
    "text_boxes = []\n",
    "for textbox in range(len(data['text'])):  # iterate over the data\n",
    "    level = data['level'][textbox]  # get the level of the current data\n",
    "    if level == 2:  # if the level is 2, then it is a block. All our labels are words grouped in a block. (and line and paragraph)\n",
    "        # store the bounding box, prepare an empty text string, untouched confidence is 100\n",
    "        # format: left, top, width, height, text, confidence\n",
    "        text_boxes.append( [data['left'][textbox], data['top'][textbox], data['width'][textbox], data['height'][textbox], \"\", 100] )\n",
    "    elif level == 5:\n",
    "        # add the text to the last block, position 4 is text\n",
    "        text_boxes[-1][4] = text_boxes[-1][4] + data['text'][textbox] + \" \"\n",
    "        # confidence is worst of old and new, position 5 is confidence\n",
    "        text_boxes[-1][5] = min(text_boxes[-1][5], data['conf'][textbox])\n",
    "\n",
    "print(text_boxes)"
   ]
  },
  {
   "cell_type": "markdown",
   "metadata": {},
   "source": [
    "#### Remove trailing space"
   ]
  },
  {
   "cell_type": "code",
   "execution_count": 12,
   "metadata": {},
   "outputs": [
    {
     "name": "stdout",
     "output_type": "stream",
     "text": [
      "[[689, 250, 40, 19, '=>', 74], [1471, 57, 266, 221, 'fe', 25], [686, 275, 49, 17, 'Signal', 96], [1315, 285, 49, 17, 'Signal', 96], [689, 300, 40, 19, '=>', 74], [686, 325, 49, 17, 'Signal', 96], [699, 470, 40, 19, '=>', 80], [696, 494, 49, 17, 'Signal', 96], [1504, 605, 54, 13, 'Device', 96], [1181, 652, 86, 34, 'bd', 25], [2224, 675, 54, 13, 'Device', 96], [1824, 704, 54, 13, 'Device', 96], [784, 1075, 163, 17, 'Device aDeviceType', 91], [304, 1107, 54, 13, 'Device', 96], [1314, 1103, 54, 13, 'Device', 96]]\n"
     ]
    }
   ],
   "source": [
    "# remove the trailing space from the text, e.g. 'Output '\n",
    "for textbox in text_boxes:\n",
    "    textbox[4] = textbox[4].strip()\n",
    "print(text_boxes)"
   ]
  },
  {
   "cell_type": "markdown",
   "metadata": {},
   "source": [
    "#### Remove too big (height) text\n",
    "Typically, this is blocks detected as text. So filter such that text labels have a limited height. Actually this filtering might make sense earlier? "
   ]
  },
  {
   "cell_type": "code",
   "execution_count": 13,
   "metadata": {},
   "outputs": [
    {
     "name": "stdout",
     "output_type": "stream",
     "text": [
      "Removed 1 text boxes because they were too big. \n",
      "[[689, 250, 40, 19, '=>', 74], [686, 275, 49, 17, 'Signal', 96], [1315, 285, 49, 17, 'Signal', 96], [689, 300, 40, 19, '=>', 74], [686, 325, 49, 17, 'Signal', 96], [699, 470, 40, 19, '=>', 80], [696, 494, 49, 17, 'Signal', 96], [1504, 605, 54, 13, 'Device', 96], [1181, 652, 86, 34, 'bd', 25], [2224, 675, 54, 13, 'Device', 96], [1824, 704, 54, 13, 'Device', 96], [784, 1075, 163, 17, 'Device aDeviceType', 91], [304, 1107, 54, 13, 'Device', 96], [1314, 1103, 54, 13, 'Device', 96]]\n"
     ]
    }
   ],
   "source": [
    "MAX_HEIGHT = 100\n",
    "# remove text boxes which are too big\n",
    "original_number_of_text_boxes = len(text_boxes)\n",
    "text_boxes = [textbox for textbox in text_boxes if textbox[3] < MAX_HEIGHT]\n",
    "print(f\"Removed {original_number_of_text_boxes - len(text_boxes)} text boxes because they were too big. \") # debug message\n",
    "print(text_boxes)"
   ]
  },
  {
   "cell_type": "markdown",
   "metadata": {},
   "source": [
    "#### Remove single non-text character blocks"
   ]
  },
  {
   "cell_type": "code",
   "execution_count": 14,
   "metadata": {},
   "outputs": [
    {
     "name": "stdout",
     "output_type": "stream",
     "text": [
      "Removed 0 text boxes because they were forbidden characters. \n",
      "[[689, 250, 40, 19, '=>', 74], [686, 275, 49, 17, 'Signal', 96], [1315, 285, 49, 17, 'Signal', 96], [689, 300, 40, 19, '=>', 74], [686, 325, 49, 17, 'Signal', 96], [699, 470, 40, 19, '=>', 80], [696, 494, 49, 17, 'Signal', 96], [1504, 605, 54, 13, 'Device', 96], [1181, 652, 86, 34, 'bd', 25], [2224, 675, 54, 13, 'Device', 96], [1824, 704, 54, 13, 'Device', 96], [784, 1075, 163, 17, 'Device aDeviceType', 91], [304, 1107, 54, 13, 'Device', 96], [1314, 1103, 54, 13, 'Device', 96]]\n"
     ]
    }
   ],
   "source": [
    "forbidden_chars = ['<','.','>',',','/',';',':','\\'','\"','[',']','{','}','|','\\\\','`','~','!','^','(',')','_','-','+','=']\n",
    "# remove text boxes which have as text only a forbidden character\n",
    "original_number_of_text_boxes = len(text_boxes)\n",
    "text_boxes = [textbox for textbox in text_boxes if textbox[4] not in forbidden_chars]\n",
    "print(f\"Removed {original_number_of_text_boxes - len(text_boxes)} text boxes because they were forbidden characters. \") # debug message\n",
    "print(text_boxes)"
   ]
  },
  {
   "cell_type": "markdown",
   "metadata": {},
   "source": [
    "#### Write out worst confidence\n",
    "Might be good for debugging."
   ]
  },
  {
   "cell_type": "code",
   "execution_count": 15,
   "metadata": {},
   "outputs": [
    {
     "name": "stdout",
     "output_type": "stream",
     "text": [
      "Tesseract OCR: worst text remaining detection confidence is 25.\n"
     ]
    }
   ],
   "source": [
    "# get the worst confidence\n",
    "worst_confidence = min([textbox[5] for textbox in text_boxes])\n",
    "print(f\"Tesseract OCR: worst text remaining detection confidence is {worst_confidence}.\") # info message"
   ]
  },
  {
   "cell_type": "markdown",
   "metadata": {},
   "source": [
    "#### Visualize Remaining Text Blocks = Labels"
   ]
  },
  {
   "cell_type": "code",
   "execution_count": 16,
   "metadata": {},
   "outputs": [],
   "source": [
    "# # Draw the merged bounding boxes on the image\n",
    "# img_bbox_blocks = target_img.copy()\n",
    "# for (x, y, w, h, text, conf) in text_boxes:\n",
    "#     cv2.rectangle(img_bbox_blocks, (x-1, y-1), (x + w + 2, y + h + 2), (0, 255, 0), 1)\n",
    "#     cv2.putText(img_bbox_blocks, text, (x, y + 30), cv2.FONT_HERSHEY_DUPLEX , 0.5, (0, 255, 0), 2)\n",
    "\n",
    "# # Plot the merged bounding boxes\n",
    "# fig, ax = plt.subplots(1, 1, figsize=(20, 20))\n",
    "# ax.imshow(cv2.cvtColor(img_bbox_blocks, cv2.COLOR_BGR2RGB))\n",
    "\n",
    "# plt.show()"
   ]
  },
  {
   "cell_type": "markdown",
   "metadata": {},
   "source": [
    "# Appendix, currently not relevant\n",
    "Here only for historic reasons \n",
    "* .\n",
    "*\n",
    "*\n",
    "*\n",
    "*\n",
    "*\n",
    "*\n",
    "*\n",
    "*\n",
    "*\n",
    "*\n",
    "*"
   ]
  },
  {
   "cell_type": "markdown",
   "metadata": {},
   "source": [
    "### Filter"
   ]
  },
  {
   "cell_type": "code",
   "execution_count": 17,
   "metadata": {},
   "outputs": [
    {
     "name": "stdout",
     "output_type": "stream",
     "text": [
      "{'block_num': [1, 3, 4, 5, 6, 7, 8, 9, 11, 12, 13, 13, 14, 15],\n",
      " 'conf': [74, 96, 96, 74, 96, 80, 96, 96, 96, 96, 93, 91, 96, 96],\n",
      " 'height': [19, 17, 17, 19, 17, 19, 17, 13, 13, 13, 13, 17, 13, 13],\n",
      " 'left': [689,\n",
      "          686,\n",
      "          1315,\n",
      "          689,\n",
      "          686,\n",
      "          699,\n",
      "          696,\n",
      "          1504,\n",
      "          2224,\n",
      "          1824,\n",
      "          784,\n",
      "          844,\n",
      "          304,\n",
      "          1314],\n",
      " 'level': [5, 5, 5, 5, 5, 5, 5, 5, 5, 5, 5, 5, 5, 5],\n",
      " 'line_num': [1, 1, 1, 1, 1, 1, 1, 1, 1, 1, 1, 1, 1, 1],\n",
      " 'page_num': [1, 1, 1, 1, 1, 1, 1, 1, 1, 1, 1, 1, 1, 1],\n",
      " 'par_num': [1, 1, 1, 1, 1, 1, 1, 1, 1, 1, 1, 1, 1, 1],\n",
      " 'text': ['=>',\n",
      "          'Signal',\n",
      "          'Signal',\n",
      "          '=>',\n",
      "          'Signal',\n",
      "          '=>',\n",
      "          'Signal',\n",
      "          'Device',\n",
      "          'Device',\n",
      "          'Device',\n",
      "          'Device',\n",
      "          'aDeviceType',\n",
      "          'Device',\n",
      "          'Device'],\n",
      " 'top': [250,\n",
      "         275,\n",
      "         285,\n",
      "         300,\n",
      "         325,\n",
      "         470,\n",
      "         494,\n",
      "         605,\n",
      "         675,\n",
      "         704,\n",
      "         1075,\n",
      "         1075,\n",
      "         1107,\n",
      "         1103],\n",
      " 'width': [40, 49, 49, 40, 49, 40, 49, 54, 54, 54, 54, 103, 54, 54],\n",
      " 'word_num': [1, 1, 1, 1, 1, 1, 1, 1, 1, 1, 1, 2, 1, 1]}\n"
     ]
    },
    {
     "data": {
      "image/png": "[encoded data removed]",
      "text/plain": [
       "<Figure size 500x500 with 1 Axes>"
      ]
     },
     "metadata": {},
     "output_type": "display_data"
    }
   ],
   "source": [
    "# Filter the detected text and their bounding boxes for a confidence threshold\n",
    "confidence_threshold = 60\n",
    "filtered_data = {key: [value[i] for i in range(len(data['conf'])) if data['conf'][i] > confidence_threshold] for key, value in data.items()}\n",
    "pprint.pprint(filtered_data)\n",
    "\n",
    "# Draw the bounding boxes on the image\n",
    "bbox_img = target_img.copy()\n",
    "for textbox in range(len(filtered_data['text'])):\n",
    "    (x, y, w, h) = (filtered_data['left'][textbox], filtered_data['top'][textbox], filtered_data['width'][textbox], filtered_data['height'][textbox])\n",
    "    cv2.rectangle(bbox_img, (x-1, y-1), (x + w + 2, y + h + 2), (0, 255, 0), 1) # bounding boxes 1 pixel larger than the detected text\n",
    "    # print(f\"Detected text: {filtered_data['text'][i]} (Confidence: {filtered_data['conf'][i]}%)\")\n",
    "\n",
    "# Plot the bounding boxes\n",
    "fig, ax = plt.subplots(1, 1, figsize=(5, 5))\n",
    "ax.imshow(cv2.cvtColor(bbox_img, cv2.COLOR_BGR2RGB))\n",
    "plt.show()\n"
   ]
  },
  {
   "cell_type": "markdown",
   "metadata": {},
   "source": [
    "### Merge Word Boxes to String Boxes"
   ]
  },
  {
   "cell_type": "code",
   "execution_count": 18,
   "metadata": {},
   "outputs": [
    {
     "name": "stdout",
     "output_type": "stream",
     "text": [
      "[[689, 250, 40, 19, '=>'], [686, 275, 49, 17, 'Signal'], [1315, 285, 49, 17, 'Signal'], [689, 300, 40, 19, '=>'], [686, 325, 49, 17, 'Signal'], [699, 470, 40, 19, '=>'], [696, 494, 49, 17, 'Signal'], [1504, 605, 54, 13, 'Device'], [2224, 675, 54, 13, 'Device'], [1824, 704, 54, 13, 'Device'], [784, 1075, 163, 17, 'Device aDeviceType'], [304, 1107, 54, 13, 'Device'], [1314, 1103, 54, 13, 'Device']]\n"
     ]
    },
    {
     "data": {
      "image/png": "[encoded data removed]",
      "text/plain": [
       "<Figure size 500x500 with 1 Axes>"
      ]
     },
     "metadata": {},
     "output_type": "display_data"
    }
   ],
   "source": [
    "def merge_adjacent_boxes(data, horizontal_threshold=7, vertical_threshold=1):\n",
    "    \"\"\"\n",
    "    Merge bounding boxes that are adjacent and aligned vertically within specified thresholds.\n",
    "\n",
    "    Parameters:\n",
    "    - data: Dictionary containing 'left', 'top', 'width', 'height', and 'text' of bounding boxes.\n",
    "    - horizontal_threshold: Maximum horizontal gap between boxes to consider them adjacent.\n",
    "    - vertical_threshold: Maximum vertical difference to consider boxes on the same line.\n",
    "\n",
    "    Returns:\n",
    "    - List of merged boxes with format [x, y, w, h, text].\n",
    "    \"\"\"\n",
    "    merged_boxes = []\n",
    "\n",
    "    for i, text in enumerate(data['text']):\n",
    "        x, y, w, h = data['left'][i], data['top'][i], data['width'][i], data['height'][i]\n",
    "        # print(f\"Processing box {i} with text: {text}\")\n",
    "        # print(f\"Box {i} coordinates: ({x}, {y}, {w}, {h})\")\n",
    "\n",
    "        # Attempt to merge with the last box in merged_boxes if not empty\n",
    "        if merged_boxes:\n",
    "            last_box = merged_boxes[-1]\n",
    "            last_box_right_edge = last_box[0] + last_box[2]\n",
    "            last_box_bottom_edge = last_box[1] + last_box[3]\n",
    "\n",
    "            # Check if current box is adjacent and vertically aligned with the last box\n",
    "            if (x <= last_box_right_edge + horizontal_threshold and\n",
    "                    abs(y - last_box[1]) <= vertical_threshold):\n",
    "                # Merge current box with the last box\n",
    "                new_right_edge = max(last_box_right_edge, x + w)\n",
    "                new_bottom_edge = max(last_box_bottom_edge, y + h)\n",
    "                last_box[2] = new_right_edge - last_box[0]  # Update width\n",
    "                last_box[3] = new_bottom_edge - last_box[1]  # Update height\n",
    "                last_box[4] += \" \" + text  # Concatenate text\n",
    "            else:\n",
    "                # Add as a new box if not adjacent/aligned\n",
    "                merged_boxes.append([x, y, w, h, text])\n",
    "        else:\n",
    "            # Add the first box\n",
    "            merged_boxes.append([x, y, w, h, text])\n",
    "\n",
    "    return merged_boxes\n",
    "\n",
    "merged_boxes = merge_adjacent_boxes(filtered_data)\n",
    "print(merged_boxes)\n",
    "\n",
    "# Draw the merged bounding boxes on the image\n",
    "img_bbox_merge = target_img.copy()\n",
    "for (x, y, w, h, text) in merged_boxes:\n",
    "    cv2.rectangle(img_bbox_merge, (x-1, y-1), (x + w + 2, y + h + 2), (0, 255, 0), 1)\n",
    "    cv2.putText(img_bbox_merge, text, (x, y + 50), cv2.FONT_HERSHEY_DUPLEX , 1, (0, 255, 0), 2)\n",
    "\n",
    "# Plot the merged bounding boxes\n",
    "fig, ax = plt.subplots(1, 1, figsize=(5, 5))\n",
    "ax.imshow(cv2.cvtColor(img_bbox_merge, cv2.COLOR_BGR2RGB))\n",
    "plt.show()\n"
   ]
  }
 ],
 "metadata": {
  "kernelspec": {
   "display_name": "Python 3",
   "language": "python",
   "name": "python3"
  },
  "language_info": {
   "codemirror_mode": {
    "name": "ipython",
    "version": 3
   },
   "file_extension": ".py",
   "mimetype": "text/x-python",
   "name": "python",
   "nbconvert_exporter": "python",
   "pygments_lexer": "ipython3",
   "version": "3.12.6"
  }
 },
 "nbformat": 4,
 "nbformat_minor": 2
}
