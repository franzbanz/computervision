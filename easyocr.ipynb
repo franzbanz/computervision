{
 "cells": [
  {
   "cell_type": "markdown",
   "id": "841fd6d4",
   "metadata": {},
   "source": [
    "# EasyOCR custom model\n",
    "\n",
    "## TextRecognitionDataGenerator\n",
    "\n",
    "Dataset does not have to be generated within XGEE\\\n",
    "Instead, generating a dataset using the [TextRecognitionDataGenerator](https://github.com/Belval/TextRecognitionDataGenerator) with custom parameters to mirror XGEE's font style\\\n",
    "This dataset can be used to train own model by following the [deep-text-recognition-benchmark Repo](https://github.com/clovaai/deep-text-recognition-benchmark)\\\n",
    "Has to be fully convolutional to work with large variety of Text sizes and potentially orientations\\\n",
    "2 additional files describing recognition network architecture and model configuration needed"
   ]
  }
 ],
 "metadata": {
  "language_info": {
   "name": "python"
  }
 },
 "nbformat": 4,
 "nbformat_minor": 5
}
