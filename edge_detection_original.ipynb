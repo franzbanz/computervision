version https://git-lfs.github.com/spec/v1
oid sha256:9a5013ff261b0263eb4bcb82437310ef9253ef914e25f37f413a6b4f0bfc1e48
size 787194
