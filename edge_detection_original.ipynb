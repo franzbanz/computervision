{
 "cells": [
  {
   "cell_type": "markdown",
   "metadata": {},
   "source": [
    "# Edge Detection\n",
    "Detect Signals in OAAM Functions Layer. Outputs polylines describing the connections. \n",
    "\n",
    "Conceptionally similar to scalable vertex detection. \n",
    "\n",
    "Tailored on the functions editor. Should be generalizable with medium effort. Expects vertical or horizontal line segments. Does not yet support crossings or other crossing solutions. Not tested for lines close to each other. Does not support diagonal lines, currently not a thing. Would be interesting with probabilistic Hough Trafo, but would probably need to subtract all other matches from the result. \n",
    "\n",
    "Maybe switch to template matching (with kind of same kernel/template). "
   ]
  },
  {
   "cell_type": "code",
   "execution_count": 41,
   "metadata": {},
   "outputs": [],
   "source": [
    "import cv2\n",
    "import numpy as np\n",
    "from matplotlib import pyplot as plt\n",
    "import plotly.graph_objects as go\n"
   ]
  },
  {
   "cell_type": "markdown",
   "metadata": {},
   "source": [
    "## Input"
   ]
  },
  {
   "cell_type": "code",
   "execution_count": 42,
   "metadata": {},
   "outputs": [],
   "source": [
    "# Define the paths\n",
    "# target_image_path = 'screenshot-3-tasks.PNG'\n",
    "# target_image_path = 'door_system.png'\n",
    "# target_image_path = 'door_system_after_preprocessing_big_padding.png' # version 2 for paper with scaled vertex\n",
    "# target_image_path = 'door_system_after_preprocessing_big.png' # for other images\n",
    "# target_image_path = 'system.png'\n",
    "target_image_path = 'images/testcase0.png'\n",
    "\n",
    "target_img = cv2.imread(target_image_path)"
   ]
  },
  {
   "cell_type": "markdown",
   "metadata": {},
   "source": [
    "#### Visualization of Input"
   ]
  },
  {
   "cell_type": "code",
   "execution_count": 43,
   "metadata": {},
   "outputs": [],
   "source": [
    "# # Draw target image\n",
    "# fig, ax = plt.subplots(1, 1, figsize=(5, 5))\n",
    "# ax.imshow(cv2.cvtColor(target_img, cv2.COLOR_BGR2RGB))\n",
    "# ax.set_title('Target Image')\n",
    "# plt.show()"
   ]
  },
  {
   "cell_type": "markdown",
   "metadata": {},
   "source": [
    "## Grayscale\n",
    "Grayscale is enough here. Kernel methods are not really for multi channel images. "
   ]
  },
  {
   "cell_type": "code",
   "execution_count": 44,
   "metadata": {},
   "outputs": [],
   "source": [
    "# Convert to grayscale\n",
    "target_gray = cv2.cvtColor(target_img, cv2.COLOR_BGR2GRAY)"
   ]
  },
  {
   "cell_type": "markdown",
   "metadata": {},
   "source": [
    "#### Visualize Grayscale"
   ]
  },
  {
   "cell_type": "code",
   "execution_count": 45,
   "metadata": {},
   "outputs": [],
   "source": [
    "# # Draw it\n",
    "# fig, ax = plt.subplots(1, 1, figsize=(5, 5))\n",
    "# ax.imshow(target_gray, cmap='gray')\n",
    "# plt.show()"
   ]
  },
  {
   "cell_type": "markdown",
   "metadata": {},
   "source": [
    "## Kernel / Custom Filter\n",
    "\n",
    "#### Kernel Custom Line Detection Kernel\n",
    "idea for later: search for many thicknesses of lines"
   ]
  },
  {
   "cell_type": "code",
   "execution_count": 46,
   "metadata": {},
   "outputs": [],
   "source": [
    "# Define custom kernels\n",
    "kernel_vertical = np.tile(np.array([[1, 1, 0, -1, -1, -1, -1, 0, 1, 1]], dtype=np.float32), (5, 1))\n",
    "kernel_horizontal = np.transpose(kernel_vertical)"
   ]
  },
  {
   "cell_type": "code",
   "execution_count": 47,
   "metadata": {},
   "outputs": [],
   "source": [
    "# # Draw the kernel\n",
    "# plt.imshow(kernel_horizontal, cmap='gray')"
   ]
  },
  {
   "cell_type": "markdown",
   "metadata": {},
   "source": [
    "#### Kerneling"
   ]
  },
  {
   "cell_type": "code",
   "execution_count": 48,
   "metadata": {},
   "outputs": [],
   "source": [
    "# Apply custom filter\n",
    "result_filter_ver = cv2.filter2D(target_gray, cv2.CV_32F, kernel_vertical)\n",
    "result_filter_hor = cv2.filter2D(target_gray, cv2.CV_32F, kernel_horizontal)"
   ]
  },
  {
   "cell_type": "markdown",
   "metadata": {},
   "source": [
    "#### Visualize Kernel Results"
   ]
  },
  {
   "cell_type": "code",
   "execution_count": 49,
   "metadata": {},
   "outputs": [],
   "source": [
    "# # Draw the horizontal and vertical edges\n",
    "# fig, ax = plt.subplots(1, 2, figsize=(20, 10))\n",
    "# ax[0].imshow(result_filter_hor, cmap='inferno')\n",
    "# ax[0].set_title('Horizontal Edges')\n",
    "# ax[1].imshow(result_filter_ver, cmap='inferno')\n",
    "# ax[1].set_title('Vertical Edges')\n",
    "# plt.show()"
   ]
  },
  {
   "cell_type": "markdown",
   "metadata": {},
   "source": [
    "#### Visualization of Filter over Target Image"
   ]
  },
  {
   "cell_type": "code",
   "execution_count": 50,
   "metadata": {},
   "outputs": [],
   "source": [
    "# # Overlay both heatmaps on the target image\n",
    "# fig, ax = plt.subplots(1, 2, figsize=(20, 10))\n",
    "# ax[0].imshow(cv2.cvtColor(target_img, cv2.COLOR_BGR2RGB))\n",
    "# ax[0].imshow(result_filter_hor, cmap='inferno', alpha=0.9)\n",
    "# ax[0].set_title('Horizontal Edges')\n",
    "# ax[1].imshow(cv2.cvtColor(target_img, cv2.COLOR_BGR2RGB))\n",
    "# ax[1].imshow(result_filter_ver, cmap='inferno', alpha=0.9)\n",
    "# ax[1].set_title('Vertical Edges')\n",
    "# plt.show()"
   ]
  },
  {
   "cell_type": "markdown",
   "metadata": {},
   "source": [
    "#### Histogram"
   ]
  },
  {
   "cell_type": "code",
   "execution_count": 51,
   "metadata": {},
   "outputs": [],
   "source": [
    "# # Draw a logarithmic histogram of vertical edges\n",
    "# plt.hist(result_filter_ver.ravel(), bins=256, log=True)\n",
    "# plt.title('Logarithmic Histogram of Vertical Line Segements Pixels')\n",
    "# plt.show()"
   ]
  },
  {
   "cell_type": "markdown",
   "metadata": {},
   "source": [
    "#### Visualization of Custom Filter 3D with plotly"
   ]
  },
  {
   "cell_type": "code",
   "execution_count": 52,
   "metadata": {},
   "outputs": [],
   "source": [
    "activate_plotly = False\n",
    "if activate_plotly:\n",
    "    # Create a 3D surface plot of the vertical edges\n",
    "    fig = go.Figure(data=[go.Surface(z=result_filter_ver)])\n",
    "    # fig = go.Figure(data=[go.Surface(z=result_filter_hor)])  # Horizontal edges\n",
    "    fig.update_layout(\n",
    "        title='3D Surface Plot of Vertical Edges',\n",
    "        height=1500,\n",
    "        scene=dict(\n",
    "            yaxis = dict(autorange='reversed'),\n",
    "            )\n",
    "        )\n",
    "    fig.show()\n"
   ]
  },
  {
   "cell_type": "markdown",
   "metadata": {},
   "source": [
    "#### Visualization of Custom Filter 3D with plotly with screenshot for paper"
   ]
  },
  {
   "cell_type": "code",
   "execution_count": 53,
   "metadata": {},
   "outputs": [],
   "source": [
    "template_matching_result = result_filter_hor.copy()\n",
    "\n",
    "# target image\n",
    "activate_plotly = False\n",
    "if activate_plotly:\n",
    "  fig = go.Figure()\n",
    "\n",
    "  # Layer 1: 3D Plot of Heatmap\n",
    "  fig.add_trace(go.Surface(\n",
    "    z = template_matching_result,\n",
    "    showscale = False\n",
    "  ))\n",
    "\n",
    "  # Layer 2: 2D Plot of Target Image at 1000\n",
    "  z_image = np.ones_like(target_gray) * 1000\n",
    "  fig.add_trace(go.Surface(\n",
    "    z = z_image,\n",
    "    showscale = False,\n",
    "    # opacity = 0.5,\n",
    "    surfacecolor = target_gray,\n",
    "    colorscale = 'gray',\n",
    "  ))\n",
    "\n",
    "  fig.update_layout(title='Heatmap Custom Filter Vertical Edges', \n",
    "                    scene=dict(\n",
    "                    yaxis=dict(autorange='reversed') \n",
    "                    ),\n",
    "                    height=1500,\n",
    "                    scene_aspectratio=dict(x=2, y=1, z=0.2),\n",
    "                    )\n",
    "\n",
    "  fig.show()"
   ]
  },
  {
   "cell_type": "markdown",
   "metadata": {},
   "source": [
    "#### Normalizing to 8 Bit"
   ]
  },
  {
   "cell_type": "code",
   "execution_count": 54,
   "metadata": {},
   "outputs": [],
   "source": [
    "# Normalize to 0-255 and convert to uint8\n",
    "result_filter_ver_norm = cv2.normalize(result_filter_ver, None, 0, 255, cv2.NORM_MINMAX, cv2.CV_8U)\n",
    "result_filter_hor_norm = cv2.normalize(result_filter_hor, None, 0, 255, cv2.NORM_MINMAX, cv2.CV_8U)\n"
   ]
  },
  {
   "cell_type": "markdown",
   "metadata": {},
   "source": [
    "#### Check Histogram"
   ]
  },
  {
   "cell_type": "code",
   "execution_count": 55,
   "metadata": {},
   "outputs": [],
   "source": [
    "# # plot the histogram of the normalized vertical edges, log scale\n",
    "# plt.hist(result_filter_ver_norm.ravel(), 256, log=True)\n",
    "# plt.show()\n",
    "# # histogram looks like above, but with other scale -> what we want"
   ]
  },
  {
   "cell_type": "markdown",
   "metadata": {},
   "source": [
    "#### 8Bit 3D Plot Plotly"
   ]
  },
  {
   "cell_type": "code",
   "execution_count": 56,
   "metadata": {},
   "outputs": [],
   "source": [
    "activate_plotly = False\n",
    "if activate_plotly:\n",
    "    # Create a 3D surface plot of the vertical edges\n",
    "    fig = go.Figure(data=[go.Surface(z=result_filter_ver_norm)])\n",
    "    # fig = go.Figure(data=[go.Surface(z=result_filter_hor_norm)])  # Horizontal edges\n",
    "    fig.update_layout(\n",
    "        title='3D Surface Plot of Vertical Edges, Normalized 8Bit',\n",
    "        height=1500,\n",
    "        scene=dict(\n",
    "            yaxis = dict(autorange='reversed'),\n",
    "            )\n",
    "        )\n",
    "    fig.show()"
   ]
  },
  {
   "cell_type": "markdown",
   "metadata": {},
   "source": [
    "#### Thresholding"
   ]
  },
  {
   "cell_type": "code",
   "execution_count": 57,
   "metadata": {},
   "outputs": [],
   "source": [
    "threshold = 230\n",
    "_, result_filter_ver_thresh = cv2.threshold(result_filter_ver_norm, threshold, 255, cv2.THRESH_BINARY)\n",
    "_, result_filter_hor_thresh = cv2.threshold(result_filter_hor_norm, threshold, 255, cv2.THRESH_BINARY)"
   ]
  },
  {
   "cell_type": "markdown",
   "metadata": {},
   "source": [
    "#### Visualize Thresholding"
   ]
  },
  {
   "cell_type": "code",
   "execution_count": 58,
   "metadata": {},
   "outputs": [],
   "source": [
    "# # Draw the thresholded images next to each other\n",
    "# fig, ax = plt.subplots(1, 2, figsize=(20, 10))\n",
    "# ax[0].imshow(result_filter_ver_thresh, cmap='inferno')\n",
    "# ax[0].set_title('Thresholded Vertical Edges')\n",
    "# ax[1].imshow(result_filter_hor_thresh, cmap='inferno')\n",
    "# ax[1].set_title('Thresholded Horizontal Edges')\n",
    "# plt.show()\n",
    "\n",
    "# # it is a binary image, even if it does not look like this!!!\n",
    "\n",
    "# # Draw a logarithmic histogram of thresholded vertical edges\n",
    "# plt.hist(result_filter_ver_thresh.ravel(), bins=256, log=True)\n",
    "# plt.title('Logarithmic Histogram of Thresholded Vertical Edges')\n",
    "# plt.show()"
   ]
  },
  {
   "cell_type": "markdown",
   "metadata": {},
   "source": [
    "### 2D with Plotly"
   ]
  },
  {
   "cell_type": "code",
   "execution_count": 59,
   "metadata": {},
   "outputs": [],
   "source": [
    "# plot vertical thresholded 8Bit edges 2D plotly\n",
    "activate_plotly = False\n",
    "if activate_plotly:\n",
    "    fig = go.Figure()\n",
    "    \n",
    "    # Only Layer: Heatmap\n",
    "    fig.add_trace(go.Heatmap(\n",
    "        z = result_filter_hor_thresh,\n",
    "        colorscale = 'inferno',\n",
    "        showscale = False\n",
    "    ))\n",
    "\n",
    "    fig.update_layout(title='Thresholded Vertical Edges 8Bit',\n",
    "                        height=1200,\n",
    "                        yaxis=dict(autorange='reversed'),\n",
    "                        )\n",
    "    fig.show()"
   ]
  },
  {
   "cell_type": "markdown",
   "metadata": {},
   "source": [
    "## Combine Horizontal + Vertical"
   ]
  },
  {
   "cell_type": "code",
   "execution_count": 60,
   "metadata": {},
   "outputs": [],
   "source": [
    "# Superposition thresholded vertical edges and horizontal edges\n",
    "hv_edges_thresh = result_filter_ver_thresh + result_filter_hor_thresh"
   ]
  },
  {
   "cell_type": "markdown",
   "metadata": {},
   "source": [
    "#### Draw Horizontal and Vertical Edges Together"
   ]
  },
  {
   "cell_type": "code",
   "execution_count": 61,
   "metadata": {},
   "outputs": [],
   "source": [
    "# # Draw the sum\n",
    "# fig, ax = plt.subplots(1, 1, figsize=(10, 10))\n",
    "# ax.imshow(hv_edges_thresh, cmap='inferno')\n",
    "# # again, it is a binary image, even if it does not look like this!!!\n",
    "# ax.set_title('Thresholded Horizontal and Vertical Edges')\n",
    "# plt.show()"
   ]
  },
  {
   "cell_type": "markdown",
   "metadata": {},
   "source": [
    "#### Overlay on Target Image"
   ]
  },
  {
   "cell_type": "code",
   "execution_count": 62,
   "metadata": {},
   "outputs": [],
   "source": [
    "# # Overlay the heatmap on the original image\n",
    "# fig, ax = plt.subplots(1, 1, figsize=(15, 15))\n",
    "# ax.imshow(cv2.cvtColor(target_img, cv2.COLOR_BGR2RGB))\n",
    "# ax.imshow(hv_edges_thresh, cmap='inferno', alpha=0.8, interpolation='nearest')  # `alpha` controls the transparency.\n",
    "# plt.title('Thresholded Horizontal and Vertical Edges, Overlayed on Target Image')\n",
    "# plt.show()"
   ]
  },
  {
   "cell_type": "markdown",
   "metadata": {},
   "source": [
    "#### 2D big Xes on Target Image\n",
    "\n"
   ]
  },
  {
   "cell_type": "code",
   "execution_count": 63,
   "metadata": {},
   "outputs": [],
   "source": [
    "# # plot over the target image the hv_edges_thresh. For every that is not 0, plot a big red X\n",
    "\n",
    "# # Draw the target image as a background\n",
    "# fig, ax = plt.subplots(1, 1, figsize=(15, 15))\n",
    "# ax.imshow(cv2.cvtColor(target_img, cv2.COLOR_BGR2RGB))\n",
    "\n",
    "# # Get the coordinates of the non-zero pixels\n",
    "# nonzero_coords = np.argwhere(hv_edges_thresh) # argwhere searches for non-zero elements\n",
    "\n",
    "# # Plot a big red X for each non-zero pixel\n",
    "# for y, x in nonzero_coords:\n",
    "#     ax.plot(x, y, 'rx', markersize=10)\n",
    "\n",
    "# plt.title('Target Image with Detected Edges')\n",
    "# plt.show()\n",
    "\n",
    "# # print number of non-zero pixels\n",
    "# print(f'Number of detected edge pixels: {len(nonzero_coords)}')"
   ]
  },
  {
   "cell_type": "markdown",
   "metadata": {},
   "source": [
    "## From Pixels to Contours"
   ]
  },
  {
   "cell_type": "markdown",
   "metadata": {},
   "source": [
    "#### Group Pixels to Contours"
   ]
  },
  {
   "cell_type": "code",
   "execution_count": 64,
   "metadata": {},
   "outputs": [
    {
     "name": "stdout",
     "output_type": "stream",
     "text": [
      "Found 12 horizontal contours, and 4 vertical contours\n"
     ]
    }
   ],
   "source": [
    "# Find contours\n",
    "contours_hor, _ = cv2.findContours(result_filter_hor_thresh.copy(), cv2.RETR_EXTERNAL, cv2.CHAIN_APPROX_SIMPLE)\n",
    "contours_ver, _ = cv2.findContours(result_filter_ver_thresh.copy(), cv2.RETR_EXTERNAL, cv2.CHAIN_APPROX_SIMPLE)\n",
    "print(f'Found {len(contours_hor)} horizontal contours, and {len(contours_ver)} vertical contours')"
   ]
  },
  {
   "cell_type": "markdown",
   "metadata": {},
   "source": [
    "#### Plot all Contours"
   ]
  },
  {
   "cell_type": "code",
   "execution_count": 65,
   "metadata": {},
   "outputs": [],
   "source": [
    "# # Draw the contours. Horizontal in blue, vertical in green\n",
    "# contour_img_all = target_img.copy()\n",
    "# cv2.drawContours(contour_img_all, contours_hor, -1, (255, 0, 255), 2)\n",
    "# cv2.drawContours(contour_img_all, contours_ver, -1, (0, 255, 0), 2)\n",
    "\n",
    "# # Plot the contours\n",
    "# fig, ax = plt.subplots(1, 1, figsize=(5, 5))\n",
    "# ax.imshow(cv2.cvtColor(contour_img_all, cv2.COLOR_BGR2RGB))\n",
    "# ax.set_title('Contours')\n",
    "# plt.show()"
   ]
  },
  {
   "cell_type": "markdown",
   "metadata": {},
   "source": [
    "#### Filter out very short Contours\n",
    "thes are mainly false positives, for example at the ports.\n",
    "They are very hard to see."
   ]
  },
  {
   "cell_type": "code",
   "execution_count": 66,
   "metadata": {},
   "outputs": [
    {
     "name": "stdout",
     "output_type": "stream",
     "text": [
      "After filtering, found 8 horizontal contours, and 4 vertical contours.\n",
      "Filtered out 4 horizontal contours, and 0 vertical contours.\n"
     ]
    }
   ],
   "source": [
    "# Filter out very short contours\n",
    "min_contour_length = 20\n",
    "contours_hor_filtered = [c for c in contours_hor if cv2.arcLength(c, False) > min_contour_length]\n",
    "contours_ver_filtered = [c for c in contours_ver if cv2.arcLength(c, False) > min_contour_length]\n",
    "print(f'After filtering, found {len(contours_hor_filtered)} horizontal contours, and {len(contours_ver_filtered)} vertical contours.')\n",
    "print(f'Filtered out {len(contours_hor) - len(contours_hor_filtered)} horizontal contours, and {len(contours_ver) - len(contours_ver_filtered)} vertical contours.')\n",
    "\n"
   ]
  },
  {
   "cell_type": "markdown",
   "metadata": {},
   "source": [
    "#### Print and Plot the Contours"
   ]
  },
  {
   "cell_type": "code",
   "execution_count": 67,
   "metadata": {},
   "outputs": [],
   "source": [
    "# # Print the contours\n",
    "# for i, c in enumerate(contours_hor_filtered):\n",
    "#     print(f\"Contour horizontal: {i}, Length: {cv2.arcLength(c, False):.1f}, Points: {c.squeeze().tolist()}\")\n",
    "# for i, c in enumerate(contours_ver_filtered):\n",
    "#     print(f\"Contour vertical: {i}, Length: {cv2.arcLength(c, False):.1f}, Points: {c.squeeze().tolist()}\")\n",
    "\n",
    "# # Draw the contours. Horizontal in blue, vertical in green\n",
    "# contour_img = target_img.copy()\n",
    "# cv2.drawContours(contour_img, contours_hor_filtered, -1, (255, 0, 255), 2)\n",
    "# cv2.drawContours(contour_img, contours_ver_filtered, -1, (0, 255, 0), 2)\n",
    "\n",
    "# # Plot the contours\n",
    "# fig, ax = plt.subplots(1, 1, figsize=(15, 15))\n",
    "# ax.imshow(cv2.cvtColor(contour_img, cv2.COLOR_BGR2RGB))\n",
    "# ax.set_title('Contours with Minimal Length')\n",
    "# plt.show()"
   ]
  },
  {
   "cell_type": "markdown",
   "metadata": {},
   "source": [
    "## From Contours to Line Segments\n",
    "Contours are areas (but very line segment looking). So they are approximated to line segments."
   ]
  },
  {
   "cell_type": "code",
   "execution_count": 68,
   "metadata": {},
   "outputs": [
    {
     "name": "stdout",
     "output_type": "stream",
     "text": [
      "Horizontal line segments: [((np.int32(1233), np.int64(450)), (np.int32(1340), np.int64(450))), ((np.int32(624), np.int64(438)), (np.int32(731), np.int64(438))), ((np.int32(1117), np.int64(270)), (np.int32(1225), np.int64(270))), ((np.int32(739), np.int64(270)), (np.int32(847), np.int64(270))), ((np.int32(1117), np.int64(234)), (np.int32(1225), np.int64(234))), ((np.int32(739), np.int64(234)), (np.int32(847), np.int64(234))), ((np.int32(1233), np.int64(102)), (np.int32(1340), np.int64(102))), ((np.int32(624), np.int64(102)), (np.int32(731), np.int64(102)))]\n"
     ]
    }
   ],
   "source": [
    "def horizontal_contours_to_horizontal_segments(contours):\n",
    "    \"\"\"\n",
    "    Convert horizontal contours to horizontal line segments.\n",
    "\n",
    "    Parameters:\n",
    "    - contours: List of contours, where each contour is an array of points.\n",
    "\n",
    "    Returns:\n",
    "    - lines: List of tuples representing horizontal line segments ((x1, y), (x2, y)).\n",
    "    \"\"\"\n",
    "    lines = []\n",
    "    for contour in contours:\n",
    "        # Simplify contour to ensure it's processed as a line if it's not already\n",
    "        # print(f\"contour: {contour.squeeze().tolist()}\")\n",
    "        simplified_contour = cv2.approxPolyDP(contour, epsilon=3, closed=False)\n",
    "        # print(f\"simplified_contour: {simplified_contour.squeeze().tolist()}\")\n",
    "        \n",
    "        # Extract the horizontal extents by finding min and max x coordinates\n",
    "        x_coords = simplified_contour[:, :, 0]\n",
    "        # print(f\"x_coords: {x_coords.squeeze().tolist()}\")\n",
    "        y_coords = simplified_contour[:, :, 1]\n",
    "        # print(f\"y_coords: {y_coords.squeeze().tolist()}\")\n",
    "        \n",
    "        x1, x2 = np.min(x_coords), np.max(x_coords)\n",
    "        y = np.mean(y_coords).astype(int)  # Assuming horizontal, y should be constant\n",
    "        \n",
    "        lines.append(((x1, y), (x2, y)))\n",
    "    \n",
    "    return lines\n",
    "\n",
    "line_segments_hor = horizontal_contours_to_horizontal_segments(contours_hor_filtered)\n",
    "print(f\"Horizontal line segments: {line_segments_hor}\")"
   ]
  },
  {
   "cell_type": "code",
   "execution_count": 69,
   "metadata": {},
   "outputs": [
    {
     "name": "stdout",
     "output_type": "stream",
     "text": [
      "Vertical line segments: [((np.int64(1229), np.int32(273)), (np.int64(1229), np.int32(274))), ((np.int64(736), np.int32(273)), (np.int64(736), np.int32(434))), ((np.int64(1229), np.int32(105)), (np.int64(1229), np.int32(106))), ((np.int64(736), np.int32(105)), (np.int64(736), np.int32(230)))]\n"
     ]
    }
   ],
   "source": [
    "def vertical_contours_to_vertical_segments(contours):\n",
    "    \"\"\"\n",
    "    Convert vertical contours to vertical line segments.\n",
    "\n",
    "    Parameters:\n",
    "    - contours: List of contours, where each contour is an array of points.\n",
    "\n",
    "    Returns:\n",
    "    - lines: List of tuples representing vertical line segments ((x, y1), (x, y2)).\n",
    "    \"\"\"\n",
    "    lines = []\n",
    "    for contour in contours:\n",
    "        # Simplify contour to ensure it's processed as a line if it's not already\n",
    "        simplified_contour = cv2.approxPolyDP(contour, epsilon=3, closed=False)\n",
    "        \n",
    "        # Extract the vertical extents by finding min and max y coordinates\n",
    "        x_coords = simplified_contour[:, :, 0]\n",
    "        y_coords = simplified_contour[:, :, 1]\n",
    "        \n",
    "        y1, y2 = np.min(y_coords), np.max(y_coords)\n",
    "        x = np.mean(x_coords).astype(int)  # Assuming vertical, x should be constant\n",
    "        \n",
    "        lines.append(((x, y1), (x, y2))\n",
    "    )\n",
    "    return lines\n",
    "\n",
    "line_segments_ver = vertical_contours_to_vertical_segments(contours_ver_filtered)\n",
    "print(f\"Vertical line segments: {line_segments_ver}\")\n",
    "\n"
   ]
  },
  {
   "cell_type": "markdown",
   "metadata": {},
   "source": [
    "#### Visualize the Line Segments"
   ]
  },
  {
   "cell_type": "code",
   "execution_count": 70,
   "metadata": {},
   "outputs": [],
   "source": [
    "# # Draw the horizontal lines\n",
    "# edges_hor_img = target_img.copy()\n",
    "# for line in line_segments_hor:\n",
    "#     cv2.line(edges_hor_img, line[0], line[1], (0, 255, 0), 4)\n",
    "\n",
    "# # Draw the vertical lines\n",
    "# edges_ver_img = target_img.copy()\n",
    "# for line in line_segments_ver:\n",
    "#     cv2.line(edges_ver_img, line[0], line[1], (0, 0, 255), 4)\n",
    "\n",
    "# # Create a single figure with two subplots (1 row, 2 columns)\n",
    "# fig, ax = plt.subplots(1, 2, figsize=(30, 10))\n",
    "\n",
    "# # Plot the horizontal lines in the first subplot\n",
    "# ax[0].imshow(cv2.cvtColor(edges_hor_img, cv2.COLOR_BGR2RGB))\n",
    "# ax[0].set_title('Horizontal Line Segments')\n",
    "\n",
    "# # Plot the vertical lines in the second subplot\n",
    "# ax[1].imshow(cv2.cvtColor(edges_ver_img, cv2.COLOR_BGR2RGB))\n",
    "# ax[1].set_title('Vertical Line Segments')\n",
    "\n",
    "# plt.show()\n"
   ]
  },
  {
   "cell_type": "markdown",
   "metadata": {},
   "source": [
    "#### Visualize Horizontal and Vertical Line Segments Highlighting the Points"
   ]
  },
  {
   "cell_type": "code",
   "execution_count": 71,
   "metadata": {},
   "outputs": [],
   "source": [
    "# # Draw the vertical and horizontal line segments over the target image. Highlight the starting and ending points of the line segments with circles.\n",
    "# edges_img = target_img.copy()\n",
    "# for line in line_segments_hor:\n",
    "#     cv2.line(edges_img, line[0], line[1], (0, 255, 0), 2)\n",
    "#     cv2.circle(edges_img, line[0], 5, (0, 255, 0), -1)\n",
    "#     cv2.circle(edges_img, line[1], 5, (0, 255, 0), -1)\n",
    "# for line in line_segments_ver:\n",
    "#     cv2.line(edges_img, line[0], line[1], (0, 0, 255), 2)\n",
    "#     cv2.circle(edges_img, line[0], 5, (0, 0, 255), -1)\n",
    "#     cv2.circle(edges_img, line[1], 5, (0, 0, 255), -1)\n",
    "\n",
    "# # Plot the vertical and horizontal lines\n",
    "# fig, ax = plt.subplots(1, 1, figsize=(10, 10))\n",
    "# ax.imshow(cv2.cvtColor(edges_img, cv2.COLOR_BGR2RGB))\n",
    "# ax.set_title('Vertical and Horizontal Line Segments')\n",
    "# plt.show()\n"
   ]
  },
  {
   "cell_type": "markdown",
   "metadata": {},
   "source": [
    "## From Line Segments to Polygonal Chain\n",
    "I do not only want line segments. I want to have connected line segments which form a polygonal chain. The problem however is that the line segments do not touch each other. There's a small gap.\n",
    "Concept: chain the segments together. Currently only supports horizontally starting signals. This is always the case for the Functions Layer, but needs to be expanded in future. \n"
   ]
  },
  {
   "cell_type": "markdown",
   "metadata": {},
   "source": [
    "#### Sort segments"
   ]
  },
  {
   "cell_type": "code",
   "execution_count": 72,
   "metadata": {},
   "outputs": [
    {
     "name": "stdout",
     "output_type": "stream",
     "text": [
      "Sorted Horizontal Segments: [((np.int32(624), np.int64(102)), (np.int32(731), np.int64(102))), ((np.int32(624), np.int64(438)), (np.int32(731), np.int64(438))), ((np.int32(739), np.int64(234)), (np.int32(847), np.int64(234))), ((np.int32(739), np.int64(270)), (np.int32(847), np.int64(270))), ((np.int32(1117), np.int64(234)), (np.int32(1225), np.int64(234))), ((np.int32(1117), np.int64(270)), (np.int32(1225), np.int64(270))), ((np.int32(1233), np.int64(102)), (np.int32(1340), np.int64(102))), ((np.int32(1233), np.int64(450)), (np.int32(1340), np.int64(450)))]\n",
      "Sorted Vertical Segments: [((np.int64(736), np.int32(105)), (np.int64(736), np.int32(230))), ((np.int64(1229), np.int32(105)), (np.int64(1229), np.int32(106))), ((np.int64(736), np.int32(273)), (np.int64(736), np.int32(434))), ((np.int64(1229), np.int32(273)), (np.int64(1229), np.int32(274)))]\n"
     ]
    }
   ],
   "source": [
    "# Sort horizontal segments from left to right and vertical segments from top to bottom\n",
    "# Separated vertical and horizontal segments\n",
    "line_segments_hor_sorted = line_segments_hor.copy()\n",
    "line_segments_hor_sorted.sort(key=lambda seg: (seg[0][0], seg[0][1]))\n",
    "line_segments_ver_sorted = line_segments_ver.copy()\n",
    "line_segments_ver_sorted.sort(key=lambda seg: (seg[0][1], seg[0][0]))\n",
    "\n",
    "# Print the sorted horizontal and vertical segments\n",
    "print(f\"Sorted Horizontal Segments: {line_segments_hor_sorted}\")\n",
    "print(f\"Sorted Vertical Segments: {line_segments_ver_sorted}\")\n"
   ]
  },
  {
   "cell_type": "markdown",
   "metadata": {},
   "source": [
    "#### Visualize Sorted Segments"
   ]
  },
  {
   "cell_type": "code",
   "execution_count": 73,
   "metadata": {},
   "outputs": [],
   "source": [
    "# # plot the sorted horizontal and vertical segments again, now with their indices\n",
    "# # Draw the vertical and horizontal line segments over the target image. Highlight the starting and ending points of the line segments with circles.\n",
    "# edges_img_sorted = target_img.copy()\n",
    "# for i, line in enumerate(line_segments_hor_sorted):\n",
    "#     cv2.line(edges_img_sorted, line[0], line[1], (0, 255, 0), 2)\n",
    "#     cv2.circle(edges_img_sorted, line[0], 5, (0, 255, 0), -1)\n",
    "#     cv2.circle(edges_img_sorted, line[1], 5, (0, 255, 0), -1)\n",
    "#     start_coords_text = f\"{i}: {line[0]}\"\n",
    "#     cv2.putText(edges_img_sorted, start_coords_text, line[0], cv2.FONT_HERSHEY_SIMPLEX, 1, (0, 255, 0), 2)\n",
    "# for i, line in enumerate(line_segments_ver_sorted):\n",
    "#     cv2.line(edges_img_sorted, line[0], line[1], (0, 0, 255), 2)\n",
    "#     cv2.circle(edges_img_sorted, line[0], 5, (0, 0, 255), -1)\n",
    "#     cv2.circle(edges_img_sorted, line[1], 5, (0, 0, 255), -1)\n",
    "#     start_coords_text = f\"{i}: {line[0]}\"\n",
    "#     cv2.putText(edges_img_sorted, start_coords_text, line[0], cv2.FONT_HERSHEY_SIMPLEX, 1, (0, 0, 255), 2)\n",
    "\n",
    "# # Plot the vertical and horizontal lines\n",
    "# fig, ax = plt.subplots(1, 1, figsize=(15, 15))\n",
    "# ax.imshow(cv2.cvtColor(edges_img_sorted, cv2.COLOR_BGR2RGB))\n",
    "# ax.set_title('Sorted Vertical and Horizontal Line Segments with Indices and Starting Point Coordinates')\n",
    "# plt.show()\n"
   ]
  },
  {
   "cell_type": "markdown",
   "metadata": {},
   "source": [
    "## Chain the line segments together\n",
    "It starts with the leftest horizontal line segment and walks its way to the end of the edge what the polygonal chain. Currently this does not support starting with a vertical line segment. This needs to be generalized in future. For example it might use some heuristics to check that it is not an intermediate line segment, but a starting or ending line segment of a chain.\n",
    "\n",
    "Take the leftest horizontal segment. Search for closest starting/ending points of vertical segment. Store, which segments are used. Continue alternativ vertical/horizontal. Finish polygonal chain if no starting/ending point within a distance of 7.\n",
    "\n",
    "Well explained in PowerPoint slides."
   ]
  },
  {
   "cell_type": "code",
   "execution_count": 74,
   "metadata": {},
   "outputs": [
    {
     "name": "stdout",
     "output_type": "stream",
     "text": [
      "Processing horizontal segment: ((np.int32(624), np.int64(102)), (np.int32(731), np.int64(102)))\n",
      "Starting chain with: ((np.int32(624), np.int64(102)), (np.int32(731), np.int64(102)))\n",
      "Next vertical segment: ((np.int64(736), np.int32(105)), (np.int64(736), np.int32(230)))\n",
      "Next horizontal segment: ((np.int32(739), np.int64(234)), (np.int32(847), np.int64(234)))\n",
      "Next vertical segment: None\n",
      "No further vertical segment found. This chain is complete.\n",
      "Processing horizontal segment: ((np.int32(624), np.int64(438)), (np.int32(731), np.int64(438)))\n",
      "Starting chain with: ((np.int32(624), np.int64(438)), (np.int32(731), np.int64(438)))\n",
      "Next vertical segment: ((np.int64(736), np.int32(273)), (np.int64(736), np.int32(434)))\n",
      "Next horizontal segment: ((np.int32(739), np.int64(270)), (np.int32(847), np.int64(270)))\n",
      "Next vertical segment: None\n",
      "No further vertical segment found. This chain is complete.\n",
      "Processing horizontal segment: ((np.int32(739), np.int64(234)), (np.int32(847), np.int64(234)))\n",
      "Already used. Skipping.\n",
      "Processing horizontal segment: ((np.int32(739), np.int64(270)), (np.int32(847), np.int64(270)))\n",
      "Already used. Skipping.\n",
      "Processing horizontal segment: ((np.int32(1117), np.int64(234)), (np.int32(1225), np.int64(234)))\n",
      "Starting chain with: ((np.int32(1117), np.int64(234)), (np.int32(1225), np.int64(234)))\n",
      "Next vertical segment: None\n",
      "No further vertical segment found. This chain is complete.\n",
      "Processing horizontal segment: ((np.int32(1117), np.int64(270)), (np.int32(1225), np.int64(270)))\n",
      "Starting chain with: ((np.int32(1117), np.int64(270)), (np.int32(1225), np.int64(270)))\n",
      "Next vertical segment: ((np.int64(1229), np.int32(273)), (np.int64(1229), np.int32(274)))\n",
      "Next horizontal segment: None\n",
      "No further horizontal segment found. This chain is complete.\n",
      "\n",
      "Processing horizontal segment: ((np.int32(1233), np.int64(102)), (np.int32(1340), np.int64(102)))\n",
      "Starting chain with: ((np.int32(1233), np.int64(102)), (np.int32(1340), np.int64(102)))\n",
      "Next vertical segment: ((np.int64(1229), np.int32(105)), (np.int64(1229), np.int32(106)))\n",
      "Next horizontal segment: None\n",
      "No further horizontal segment found. This chain is complete.\n",
      "\n",
      "Processing horizontal segment: ((np.int32(1233), np.int64(450)), (np.int32(1340), np.int64(450)))\n",
      "Starting chain with: ((np.int32(1233), np.int64(450)), (np.int32(1340), np.int64(450)))\n",
      "Next vertical segment: None\n",
      "No further vertical segment found. This chain is complete.\n"
     ]
    }
   ],
   "source": [
    "def calculate_distance(point1, point2):\n",
    "    \"\"\"Calculate the Euclidean distance between two points.\"\"\"\n",
    "    return ((point1[0] - point2[0]) ** 2 + (point1[1] - point2[1]) ** 2) ** 0.5\n",
    "\n",
    "\n",
    "def find_closest_segment(base_segment, candidate_segments, max_distance=7):\n",
    "    \"\"\"Find the closest segment from candidate_segments to either the start or end point of the base_segment. But only to a maximum distance of max_distance.\"\"\"\n",
    "    closest_segment = None\n",
    "    closest_distance = max_distance + 1  # Initialize with a value slightly larger than max_distance\n",
    "\n",
    "    # Check both the start and end points of the base segment\n",
    "    for base_point in [base_segment[0], base_segment[1]]:\n",
    "        for seg in candidate_segments:\n",
    "            # Check both start and end points of the candidate segment\n",
    "            for point in [seg[0], seg[1]]:\n",
    "                distance = calculate_distance(base_point, point)\n",
    "                if distance < closest_distance:\n",
    "                    closest_distance = distance\n",
    "                    closest_segment = seg\n",
    "\n",
    "    return closest_segment if closest_distance <= max_distance else None\n",
    "\n",
    "\n",
    "def group_segments_into_chains(h_segments, v_segments, max_distance=7):\n",
    "    chains = []\n",
    "    used_segments = set()\n",
    "\n",
    "    # Function to add segments to 'used_segments' and remove them from 'h_segments' or 'v_segments'\n",
    "    def mark_used(seg):\n",
    "        if seg in h_segments:\n",
    "            h_segments.remove(seg)\n",
    "        elif seg in v_segments:\n",
    "            v_segments.remove(seg)\n",
    "        used_segments.add(seg)\n",
    "\n",
    "    # Start with horizontal segments as potential starting points\n",
    "    for h_seg in list(h_segments):  # Use list(...) to avoid modifying the list while iterating\n",
    "        print(f\"Processing horizontal segment: {h_seg}\")\n",
    "        if h_seg in used_segments:\n",
    "            print(\"Already used. Skipping.\")\n",
    "            continue\n",
    "        current_chain = [h_seg] # chain starts with a horizontal segment\n",
    "        print(f\"Starting chain with: {h_seg}\")\n",
    "        mark_used(h_seg)\n",
    "\n",
    "        # Alternate between finding vertical and horizontal segments to connect\n",
    "        searching_for = 'vertical'\n",
    "        while True:\n",
    "            if searching_for == 'vertical':\n",
    "                next_seg = find_closest_segment(current_chain[-1], v_segments, max_distance)\n",
    "                print(f\"Next vertical segment: {next_seg}\")\n",
    "                if next_seg:\n",
    "                    current_chain.append(next_seg)\n",
    "                    mark_used(next_seg)\n",
    "                    searching_for = 'horizontal'  # Switch to searching for the next horizontal segment\n",
    "                else:\n",
    "                    print(\"No further vertical segment found. This chain is complete.\")\n",
    "                    break  # No more segments to connect\n",
    "            else:\n",
    "                next_seg = find_closest_segment(current_chain[-1], h_segments, max_distance)\n",
    "                print(f\"Next horizontal segment: {next_seg}\")\n",
    "                if next_seg:\n",
    "                    current_chain.append(next_seg)\n",
    "                    mark_used(next_seg)\n",
    "                    searching_for = 'vertical'\n",
    "                else:\n",
    "                    print(\"No further horizontal segment found. This chain is complete.\\n\")\n",
    "                    break\n",
    "\n",
    "        chains.append(current_chain)\n",
    "\n",
    "    return chains\n",
    "\n",
    "line_segment_chains = group_segments_into_chains(line_segments_hor_sorted.copy(), line_segments_ver_sorted.copy())"
   ]
  },
  {
   "cell_type": "markdown",
   "metadata": {},
   "source": [
    "#### Print the Chains\n",
    "Can be compared to plotted coordinates in image above."
   ]
  },
  {
   "cell_type": "code",
   "execution_count": 75,
   "metadata": {},
   "outputs": [
    {
     "name": "stdout",
     "output_type": "stream",
     "text": [
      "Chain 0: [((np.int32(624), np.int64(102)), (np.int32(731), np.int64(102))), ((np.int64(736), np.int32(105)), (np.int64(736), np.int32(230))), ((np.int32(739), np.int64(234)), (np.int32(847), np.int64(234)))]\n",
      "Chain 1: [((np.int32(624), np.int64(438)), (np.int32(731), np.int64(438))), ((np.int64(736), np.int32(273)), (np.int64(736), np.int32(434))), ((np.int32(739), np.int64(270)), (np.int32(847), np.int64(270)))]\n",
      "Chain 2: [((np.int32(1117), np.int64(234)), (np.int32(1225), np.int64(234)))]\n",
      "Chain 3: [((np.int32(1117), np.int64(270)), (np.int32(1225), np.int64(270))), ((np.int64(1229), np.int32(273)), (np.int64(1229), np.int32(274)))]\n",
      "Chain 4: [((np.int32(1233), np.int64(102)), (np.int32(1340), np.int64(102))), ((np.int64(1229), np.int32(105)), (np.int64(1229), np.int32(106)))]\n",
      "Chain 5: [((np.int32(1233), np.int64(450)), (np.int32(1340), np.int64(450)))]\n"
     ]
    }
   ],
   "source": [
    "# Print the chains\n",
    "for i, chain in enumerate(line_segment_chains):\n",
    "    print(f\"Chain {i}: {chain}\")"
   ]
  },
  {
   "cell_type": "markdown",
   "metadata": {},
   "source": [
    "#### Visualize the Chains\n",
    "still sets of line segments with a gap"
   ]
  },
  {
   "cell_type": "code",
   "execution_count": 76,
   "metadata": {},
   "outputs": [],
   "source": [
    "# # Draw the chains, using different colors for each chain\n",
    "# chain_img = target_img.copy()\n",
    "# colors = [(255, 255, 0), (255, 0, 255), (125, 0, 255),  (0, 255, 0), (255, 0, 0), (0, 0, 255), (128, 128, 128), (128, 0, 128), (0, 128, 128), (128, 128, 0), (0, 128, 0), (255, 105, 180), (139, 69, 19)]\n",
    "\n",
    "# for i, chain in enumerate(line_segment_chains):\n",
    "#     color = colors[i % len(colors)]\n",
    "#     for start, end in chain:\n",
    "#         cv2.line(chain_img, start, end, color, 4)\n",
    "\n",
    "# # Plot the chains\n",
    "# fig, ax = plt.subplots(1, 1, figsize=(10, 10))\n",
    "# ax.imshow(cv2.cvtColor(chain_img, cv2.COLOR_BGR2RGB))\n",
    "# plt.title('Chains')\n",
    "# plt.show()"
   ]
  },
  {
   "cell_type": "markdown",
   "metadata": {},
   "source": [
    "#### From Chains to Polylines"
   ]
  },
  {
   "cell_type": "code",
   "execution_count": 77,
   "metadata": {},
   "outputs": [
    {
     "name": "stdout",
     "output_type": "stream",
     "text": [
      "Calculating intersection between ((np.int32(624), np.int64(102)), (np.int32(731), np.int64(102))) and ((np.int64(736), np.int32(105)), (np.int64(736), np.int32(230)))\n",
      "Denominator: 13375= (624 - 731) * (105 - 230) - (102 - 102) * (736 - 736)\n",
      "t_num: 14000= (624 - 736) * (105 - 230) - (102 - 105) * (736 - 736)\n",
      "t: 1.0467289719626167 = 14000 / 13375\n",
      "intersect_x: 736.0 = 624 + 1.0467289719626167 * (731 - 624)\n",
      "intersect_y: 102.0 = 102 + 1.0467289719626167 * (102 - 102)\n",
      "Calculating intersection between ((np.int64(736), np.int32(105)), (np.int64(736), np.int32(230))) and ((np.int32(739), np.int64(234)), (np.int32(847), np.int64(234)))\n",
      "Denominator: -13500= (736 - 736) * (234 - 234) - (105 - 230) * (739 - 847)\n",
      "t_num: -13932= (736 - 739) * (234 - 234) - (105 - 234) * (739 - 847)\n",
      "t: 1.032 = -13932 / -13500\n",
      "intersect_x: 736.0 = 736 + 1.032 * (736 - 736)\n",
      "intersect_y: 234.0 = 105 + 1.032 * (230 - 105)\n",
      "Calculating intersection between ((np.int32(624), np.int64(438)), (np.int32(731), np.int64(438))) and ((np.int64(736), np.int32(273)), (np.int64(736), np.int32(434)))\n",
      "Denominator: 17227= (624 - 731) * (273 - 434) - (438 - 438) * (736 - 736)\n",
      "t_num: 18032= (624 - 736) * (273 - 434) - (438 - 273) * (736 - 736)\n",
      "t: 1.0467289719626167 = 18032 / 17227\n",
      "intersect_x: 736.0 = 624 + 1.0467289719626167 * (731 - 624)\n",
      "intersect_y: 438.0 = 438 + 1.0467289719626167 * (438 - 438)\n",
      "Calculating intersection between ((np.int64(736), np.int32(273)), (np.int64(736), np.int32(434))) and ((np.int32(739), np.int64(270)), (np.int32(847), np.int64(270)))\n",
      "Denominator: -17388= (736 - 736) * (270 - 270) - (273 - 434) * (739 - 847)\n",
      "t_num: 324= (736 - 739) * (270 - 270) - (273 - 270) * (739 - 847)\n",
      "t: -0.018633540372670808 = 324 / -17388\n",
      "intersect_x: 736.0 = 736 + -0.018633540372670808 * (736 - 736)\n",
      "intersect_y: 270.0 = 273 + -0.018633540372670808 * (434 - 273)\n",
      "Calculating intersection between ((np.int32(1117), np.int64(270)), (np.int32(1225), np.int64(270))) and ((np.int64(1229), np.int32(273)), (np.int64(1229), np.int32(274)))\n",
      "Denominator: 108= (1117 - 1225) * (273 - 274) - (270 - 270) * (1229 - 1229)\n",
      "t_num: 112= (1117 - 1229) * (273 - 274) - (270 - 273) * (1229 - 1229)\n",
      "t: 1.037037037037037 = 112 / 108\n",
      "intersect_x: 1229.0 = 1117 + 1.037037037037037 * (1225 - 1117)\n",
      "intersect_y: 270.0 = 270 + 1.037037037037037 * (270 - 270)\n",
      "Calculating intersection between ((np.int32(1233), np.int64(102)), (np.int32(1340), np.int64(102))) and ((np.int64(1229), np.int32(105)), (np.int64(1229), np.int32(106)))\n",
      "Denominator: 107= (1233 - 1340) * (105 - 106) - (102 - 102) * (1229 - 1229)\n",
      "t_num: -4= (1233 - 1229) * (105 - 106) - (102 - 105) * (1229 - 1229)\n",
      "t: -0.037383177570093455 = -4 / 107\n",
      "intersect_x: 1229.0 = 1233 + -0.037383177570093455 * (1340 - 1233)\n",
      "intersect_y: 102.0 = 102 + -0.037383177570093455 * (102 - 102)\n"
     ]
    }
   ],
   "source": [
    "# currently not used\n",
    "# def calculate_intersection(horizontal_seg, vertical_seg):\n",
    "#     \"\"\"Calculate the intersection point of a horizontal and a vertical segment.\"\"\"\n",
    "#     # The intersection point's x-coordinate comes from the vertical segment,\n",
    "#     # and the y-coordinate comes from the horizontal segment.\n",
    "#     print(f\"Calculating intersection between {horizontal_seg} and {vertical_seg}\")\n",
    "#     return (vertical_seg[0][0], horizontal_seg[0][1])\n",
    "\n",
    "def calculate_intersection(seg1, seg2):\n",
    "    \"\"\"\n",
    "    Calculate the intersection point of two line segments.\n",
    "    Very generic, does not assume that the segments are orthogonal.\n",
    "\n",
    "    Parameters:\n",
    "    - seg1, seg2: The line segments, each represented as a tuple of points ((x1, y1), (x2, y2)).\n",
    "\n",
    "    Returns:\n",
    "    - The intersection point (x, y) as a tuple, or None if the segments do not intersect.\n",
    "    \"\"\"\n",
    "    print(f\"Calculating intersection between {seg1} and {seg2}\")\n",
    "    # Unpack points\n",
    "    x1, y1, x2, y2 = seg1[0][0], seg1[0][1], seg1[1][0], seg1[1][1]\n",
    "    x3, y3, x4, y4 = seg2[0][0], seg2[0][1], seg2[1][0], seg2[1][1]\n",
    "\n",
    "    # Calculate denominators\n",
    "    den = (x1 - x2) * (y3 - y4) - (y1 - y2) * (x3 - x4)\n",
    "    print(f\"Denominator: {den}= ({x1} - {x2}) * ({y3} - {y4}) - ({y1} - {y2}) * ({x3} - {x4})\")\n",
    "\n",
    "    # Check if lines are parallel (denominator = 0)\n",
    "    if den == 0:\n",
    "        return None  # Lines are parallel and do not intersect\n",
    "\n",
    "    # Calculate numerators\n",
    "    t_num = (x1 - x3) * (y3 - y4) - (y1 - y3) * (x3 - x4)\n",
    "    print(f\"t_num: {t_num}= ({x1} - {x3}) * ({y3} - {y4}) - ({y1} - {y3}) * ({x3} - {x4})\")\n",
    "    # u_num = -((x1 - x2) * (y1 - y3) - (y1 - y2) * (x1 - x3))\n",
    "    # print(f\"u_num: {u_num}= -(({x1} - {x2}) * ({y1} - {y3}) - ({y1} - {y2}) * ({x1} - {x3}))\")\n",
    "\n",
    "    # Calculate the intersection point\n",
    "    t = t_num / den\n",
    "    print(f\"t: {t} = {t_num} / {den}\")\n",
    "    # u = u_num / den\n",
    "\n",
    "    intersect_x = x1 + t * (x2 - x1)\n",
    "    print(f\"intersect_x: {intersect_x} = {x1} + {t} * ({x2} - {x1})\")\n",
    "    intersect_y = y1 + t * (y2 - y1)\n",
    "    print(f\"intersect_y: {intersect_y} = {y1} + {t} * ({y2} - {y1})\")\n",
    "    return (intersect_x, intersect_y)\n",
    "\n",
    "def construct_polylines(chains):\n",
    "    \"\"\"\n",
    "    Constructs polylines from chains of line segments, using intersection points between\n",
    "    consecutive orthogonal segments to form a continuous path.\n",
    "\n",
    "    Parameters:\n",
    "    - chains: A list of chains, where each chain is a list of segments ordered such that\n",
    "      each segment is orthogonal to the next.\n",
    "\n",
    "    Returns:\n",
    "    - A list of polylines, where each polyline is represented as an ordered list of points.\n",
    "    \"\"\"\n",
    "    polylines = []\n",
    "\n",
    "    for chain in chains:\n",
    "        if not chain:\n",
    "            continue  # Skip empty chains\n",
    "\n",
    "        # Start the polyline with the start point of the first segment\n",
    "        polyline = [chain[0][0]]\n",
    "\n",
    "        for i in range(len(chain) - 1):\n",
    "            # Calculate the intersection point between the current segment and the next\n",
    "            intersection = calculate_intersection(chain[i], chain[i + 1])\n",
    "            polyline.append(intersection)\n",
    "\n",
    "        # Add the end point of the last segment in the chain\n",
    "        polyline.append(chain[-1][1])\n",
    "\n",
    "        polylines.append(polyline)\n",
    "\n",
    "    return polylines\n",
    "\n",
    "polylines = construct_polylines(line_segment_chains)"
   ]
  },
  {
   "cell_type": "markdown",
   "metadata": {},
   "source": [
    "#### Print the polylines"
   ]
  },
  {
   "cell_type": "code",
   "execution_count": 78,
   "metadata": {},
   "outputs": [
    {
     "name": "stdout",
     "output_type": "stream",
     "text": [
      "Polyline 0: [(np.int32(624), np.int64(102)), (np.float64(736.0), np.float64(102.0)), (np.float64(736.0), np.float64(234.0)), (np.int32(847), np.int64(234))]\n",
      "Polyline 1: [(np.int32(624), np.int64(438)), (np.float64(736.0), np.float64(438.0)), (np.float64(736.0), np.float64(270.0)), (np.int32(847), np.int64(270))]\n",
      "Polyline 2: [(np.int32(1117), np.int64(234)), (np.int32(1225), np.int64(234))]\n",
      "Polyline 3: [(np.int32(1117), np.int64(270)), (np.float64(1229.0), np.float64(270.0)), (np.int64(1229), np.int32(274))]\n",
      "Polyline 4: [(np.int32(1233), np.int64(102)), (np.float64(1229.0), np.float64(102.0)), (np.int64(1229), np.int32(106))]\n",
      "Polyline 5: [(np.int32(1233), np.int64(450)), (np.int32(1340), np.int64(450))]\n"
     ]
    }
   ],
   "source": [
    "# Printing the constructed polylines\n",
    "for i, polyline in enumerate(polylines):\n",
    "    print(f\"Polyline {i}: {polyline}\")"
   ]
  },
  {
   "cell_type": "markdown",
   "metadata": {},
   "source": [
    "#### Visualize Polylines"
   ]
  },
  {
   "cell_type": "code",
   "execution_count": 79,
   "metadata": {},
   "outputs": [
    {
     "data": {
      "image/png": "[encoded data removed]",
      "text/plain": [
       "<Figure size 1000x1000 with 1 Axes>"
      ]
     },
     "metadata": {},
     "output_type": "display_data"
    }
   ],
   "source": [
    "# Convert the polylines to the format expected by OpenCV\n",
    "colors = [(255, 255, 0), (255, 0, 255), (125, 0, 255),  (0, 255, 0), (255, 0, 0), (0, 0, 255), (128, 128, 128), (128, 0, 128), (0, 128, 128), (128, 128, 0), (0, 128, 0), (255, 105, 180), (139, 69, 19)]\n",
    "opencv_polylines = [np.array(polyline, dtype=np.int32).reshape((-1, 1, 2)) for polyline in polylines]\n",
    "\n",
    "# Draw the polylines\n",
    "polyline_img = target_img.copy()\n",
    "for i, polyline in enumerate(opencv_polylines):\n",
    "    color = colors[i % len(colors)] # take colors from above\n",
    "    cv2.polylines(polyline_img, [polyline], isClosed=False, color=color, thickness=6)\n",
    "    for point in polyline:\n",
    "        cv2.circle(polyline_img, tuple(point.squeeze()), 10, color, -1)\n",
    "\n",
    "# Plot the polylines\n",
    "fig, ax = plt.subplots(1, 1, figsize=(10, 10))\n",
    "ax.imshow(cv2.cvtColor(polyline_img, cv2.COLOR_BGR2RGB))\n",
    "plt.title('Polylines')\n",
    "plt.show()"
   ]
  }
 ],
 "metadata": {
  "kernelspec": {
   "display_name": "Python 3",
   "language": "python",
   "name": "python3"
  },
  "language_info": {
   "codemirror_mode": {
    "name": "ipython",
    "version": 3
   },
   "file_extension": ".py",
   "mimetype": "text/x-python",
   "name": "python",
   "nbconvert_exporter": "python",
   "pygments_lexer": "ipython3",
   "version": "3.12.6"
  }
 },
 "nbformat": 4,
 "nbformat_minor": 2
}
