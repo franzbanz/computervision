version https://git-lfs.github.com/spec/v1
oid sha256:24ff94e75d32e0303b236ac2a076404b0fa86f52c4309e3846700f6f90fa20a3
size 639344
