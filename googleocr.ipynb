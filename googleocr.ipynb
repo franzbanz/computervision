{
 "cells": [
  {
   "cell_type": "markdown",
   "id": "daccd4ff",
   "metadata": {},
   "source": [
    "# Google Cloud Vision\n",
    "\n",
    "- alledgedly can detect rotated text natively - **we'll see about that**\n",
    "- fast\n",
    "- requires API key\n",
    "- [cool website](https://cloud.google.com/use-cases/ocr)"
   ]
  },
  {
   "cell_type": "code",
   "execution_count": null,
   "id": "69fc25d8",
   "metadata": {},
   "outputs": [
    {
     "ename": "",
     "evalue": "",
     "output_type": "error",
     "traceback": [
      "\u001b[1;31mRunning cells with 'Python 3.12.3' requires the ipykernel package.\n",
      "\u001b[1;31mInstall 'ipykernel' into the Python environment. \n",
      "\u001b[1;31mCommand: '/bin/python3 -m pip install ipykernel -U --user --force-reinstall'"
     ]
    }
   ],
   "source": [
    "from google.cloud import vision\n",
    "import io\n",
    "import cv2\n",
    "import numpy as np\n",
    "import matplotlib.pyplot as plt\n",
    "\n",
    "image_path = \"images/testcase0.png\"\n",
    "\n",
    "# initialize vision API client\n",
    "client = vision.ImageAnnotatorClient()\n",
    "\n",
    "with io.open(image_path, 'rb') as image_file:\n",
    "    content = image_file.read()\n",
    "image = vision.Image(content=content)\n",
    "\n",
    "# perform text detection\n",
    "response = client.text_detection(image=image)\n",
    "texts = response.text_annotations\n",
    "if not texts:\n",
    "    print(\"No text found.\")\n"
   ]
  },
  {
   "cell_type": "code",
   "execution_count": null,
   "id": "2be7dab8",
   "metadata": {},
   "outputs": [],
   "source": [
    "# Load the image with OpenCV\n",
    "cv_img = cv2.imread(image_path)\n",
    "\n",
    "# Draw bounding boxes\n",
    "for i, text in enumerate(texts):\n",
    "    if i == 0:\n",
    "        # The first item is the full text block, skip drawing it\n",
    "        continue\n",
    "    vertices = [(v.x, v.y) for v in text.bounding_poly.vertices]\n",
    "    cv2.polylines(cv_img, [np.array(vertices, np.int32)], isClosed=True, color=(0, 255, 0), thickness=2)\n",
    "    # Optionally label the text\n",
    "    x, y = vertices[0]\n",
    "    cv2.putText(cv_img, text.description, (x, y - 5), cv2.FONT_HERSHEY_SIMPLEX, 0.6, (0, 0, 255), 2)\n",
    "\n",
    "# Convert BGR to RGB for display\n",
    "rgb_img = cv2.cvtColor(cv_img, cv2.COLOR_BGR2RGB)\n",
    "\n",
    "# Show the image in Jupyter or script\n",
    "plt.figure(figsize=(12, 8))\n",
    "plt.imshow(rgb_img)\n",
    "plt.axis('off')\n",
    "plt.title(\"Detected Text with Bounding Boxes\")\n",
    "plt.show()"
   ]
  }
 ],
 "metadata": {
  "kernelspec": {
   "display_name": "Python 3",
   "language": "python",
   "name": "python3"
  },
  "language_info": {
   "codemirror_mode": {
    "name": "ipython",
    "version": 3
   },
   "file_extension": ".py",
   "mimetype": "text/x-python",
   "name": "python",
   "nbconvert_exporter": "python",
   "pygments_lexer": "ipython3",
   "version": "3.12.3"
  }
 },
 "nbformat": 4,
 "nbformat_minor": 5
}
